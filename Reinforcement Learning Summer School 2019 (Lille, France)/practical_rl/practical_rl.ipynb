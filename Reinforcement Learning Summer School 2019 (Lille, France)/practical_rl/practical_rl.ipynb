{
  "nbformat": 4,
  "nbformat_minor": 0,
  "metadata": {
    "colab": {
      "name": "RL.DP+QLearning+SARSA.ipynb",
      "version": "0.3.2",
      "provenance": []
    },
    "language_info": {
      "codemirror_mode": {
        "name": "ipython",
        "version": 3
      },
      "file_extension": ".py",
      "mimetype": "text/x-python",
      "name": "python",
      "nbconvert_exporter": "python",
      "pygments_lexer": "ipython3",
      "version": "3.6.8"
    },
    "kernelspec": {
      "display_name": "Python 3",
      "language": "python",
      "name": "python3"
    }
  },
  "cells": [
    {
      "cell_type": "markdown",
      "metadata": {
        "id": "mlPp4EsAFZVU",
        "colab_type": "text"
      },
      "source": [
        "##### Run this cell to set your notebook up (only mandatory if rlss2019-docker image is not used)"
      ]
    },
    {
      "cell_type": "code",
      "metadata": {
        "id": "_9BryD9RFZVY",
        "colab_type": "code",
        "colab": {}
      },
      "source": [
        "!git clone https://github.com/yfletberliac/rlss2019-hands-on.git > /dev/null 2>&1"
      ],
      "execution_count": 0,
      "outputs": []
    },
    {
      "cell_type": "markdown",
      "metadata": {
        "id": "4ntsBUuNFZVh",
        "colab_type": "text"
      },
      "source": [
        "# Reinforcement Learning - Practical Session 1\n",
        "\n",
        "\n",
        "## Review\n",
        "\n",
        "A Markov Decision Process (MDP) is defined as tuple $(S, A, P, r, \\gamma)$ where:\n",
        "* $S$ is the state space\n",
        "* $A$ is the action space \n",
        "* $P$ represents the transition probabilities, $P(s,a,s')$ is the probability of arriving at state $s'$ by taking action $a$ in state $s$\n",
        "* $r$ is the reward function such that $r(s,a,s')$ is the reward obtained by taking action $a$ in state $s$ and arriving at $s'$\n",
        "* $\\gamma$ is the discount factor\n",
        "\n",
        "A deterministic policy $\\pi$ is a mapping from $S$ to $A$: $\\pi(s)$ is the action to be taken at state $s$.\n",
        "\n",
        "The goal of an agent is to find the policy $\\pi$ that maximizes the expected sum of discounted rewards by following $\\pi$. The value of $\\pi$ is defined as\n",
        "\n",
        "$$\n",
        "V_\\pi(s) = E\\left[ \\sum_{t=0}^\\infty \\gamma^t r(S_t, A_t, S_{t+1}) | S_0 = s \\right]\n",
        "$$\n",
        "\n",
        "$V_\\pi(s)$ and the optimal value function, defined as $V^*(s) = \\max_\\pi V_\\pi(s)$, can be shown to satisfy the Bellman equations:\n",
        "\n",
        "$$\n",
        "V_\\pi(s) = \\sum_{s' \\in S}  P(s,\\pi(s),s')[r(s,\\pi(s),s') + \\gamma V_\\pi(s')]\n",
        "$$\n",
        "\n",
        "\n",
        "$$\n",
        "V^*(s) = \\max_{a\\in A} \\sum_{s' \\in S}  P(s,a,s')[r(s,a,s') + \\gamma V^*(s')]\n",
        "$$\n",
        "\n",
        "It is sometimes better to work with Q functions:\n",
        "\n",
        "$$\n",
        "Q_\\pi(s, a) = \\sum_{s' \\in S}  P(s,a,s')[r(s,a,s') + \\gamma  Q_\\pi(s', \\pi(s')]\n",
        "$$\n",
        "\n",
        "\n",
        "$$\n",
        "Q^*(s, a) = \\sum_{s' \\in S}  P(s,a,s')[r(s,a,s') + \\gamma \\max_{a'} Q^*(s', a')]\n",
        "$$\n",
        "\n",
        "such that $V_\\pi(s) = Q_\\pi(s, \\pi(s))$ and $V^*(s) = \\max_a Q^*(s, a)$.\n",
        "\n",
        "\n",
        "### Using value iteration to compute an optimal policy\n",
        "If the reward function and the transition probabilities are known (and the state and action spaces are not very large), we can use dynamic programming methods to compute $V^*(s)$. Value iteration is one way to do that.\n",
        "\n",
        "\n",
        "#####  Value iteration to compute $V^*(s)$\n",
        "$$\n",
        "T^* Q(s,a) = \\sum_{s'}P(s'|s,a)[ r(s, a, s') + \\gamma \\max_{a'} Q(s', a')]   \\\\\n",
        "$$\n",
        "\n",
        "\n",
        "* For any $Q_0$, let $Q_n = T^* Q_{n-1}$. \n",
        "* We have $\\lim_{n\\to\\infty}Q_n = Q^*$ and $Q^* = T^* Q^*$\n",
        "\n",
        "\n",
        "##### Finding the optimal policy from $V^\\pi(s)$\n",
        "\n",
        "The optimal policy $\\pi^*$ can be computed as\n",
        "\n",
        "$$\n",
        "\\pi^*(s) \\in \\arg\\max_{a\\in A} Q^*(s, a) =  \\arg\\max_{a\\in A} \\sum_{s' \\in S}  P(s,a,s')[r(s,a,s') + \\gamma V^*(s')]\n",
        "$$\n",
        "\n",
        "###  Q-Learning and SARSA \n",
        "\n",
        "When the reward function and the transition probabilities are *unknown*, we cannot use dynamic programming to find the optimal value function. Q-Learning and SARSA are stochastic approximation algorithms that allow us to estimate the value function by using only samples from the environment.\n",
        "\n",
        "#####  Q-learning\n",
        "\n",
        "The Q-Learning algorithm allows us to estimate the optimal Q function using only trajectories from the MDP obtained by following some exploration policy. \n",
        "\n",
        "Q-learning with $\\varepsilon$-greedy exploration does the following update at time $t$:\n",
        "\n",
        "1. In state $s_t$, take action $a_t$  such that $a_t$ is random with probability $\\varepsilon$ and $a_t \\in \\arg\\max_a \\hat{Q}_t(s_t,a) $ with probability $1-\\varepsilon$;\n",
        "2. Observe $s_{t+1}$ and reward $r_t$;\n",
        "3. Compute $\\delta_t = r_t + \\gamma \\max_a \\hat{Q}_t(s_{t+1}, a) - \\hat{Q}_t(s_t, a_t)$;\n",
        "4. Update $\\hat{Q}_{t+1}(s, a) = \\hat{Q}_t(s, a) + \\alpha_t(s,a)\\delta_t\\mathbb{1}\\{s=s_t, a=a_t\\}  $\n",
        "\n",
        "\n",
        "##### SARSA\n",
        "\n",
        "SARSA is similar to Q-learning, but it is an *on-policy* algorithm: it follows a (stochastic) policy $\\pi_Q$ and updates its estimate towards the value of this policy. One possible choice is:\n",
        "\n",
        "$$\n",
        "\\pi_Q(a|s) = \\frac{ \\exp(\\tau^{-1}Q(s,a))  }{\\sum_{a'}\\exp(\\tau^{-1}Q(s,a')) }\n",
        "$$\n",
        "where $\\tau$ is a \"temperature\" parameter: when $\\tau$ approaches 0, $\\pi_Q(a|s)$ approaches the greedy (deterministic) policy $a \\in \\arg\\max_{a'}Q(s,a')$.\n",
        "\n",
        "At each time $t$, SARSA keeps an estimate $\\hat{Q}_t$ of the true Q function and uses $\\pi_{\\hat{Q}_t}(a|s)$ to choose the action $a_t$. If $\\tau \\to 0$ with a proper rate as $t \\to \\infty$, $\\hat{Q}_t$ converges to $Q$ and $\\pi_{\\hat{Q}_t}(a|s)$ converges to the optimal policy $\\pi^*$. \n",
        "\n",
        "The SARSA update at time $t$ is done as follows:\n",
        "\n",
        "1. In state $s_t$, take action $a_t \\sim \\pi_{\\hat{Q}_t}(a|s_t)$ ;\n",
        "2. Observe $s_{t+1}$ and reward $r_t$;\n",
        "3. Sample the next action $a_{t+1} \\sim \\pi_{\\hat{Q}_t}(a|s_{t+1})$;\n",
        "4. Compute $\\delta_t = r_t + \\gamma \\hat{Q}_t(s_{t+1}, a_{t+1}) - \\hat{Q}_t(s_t, a_t)$\n",
        "5. Update $\\hat{Q}_{t+1}(s, a) = \\hat{Q}_t(s, a) + \\alpha_t(s,a)\\delta_t\\mathbb{1}\\{s=s_t, a=a_t\\}$\n",
        "\n",
        "## Goals\n",
        "\n",
        "Your goal is to implement Value Iteration, Q-Learning and SARSA for the [Frozen Lake](https://gym.openai.com/envs/FrozenLake-v0/) environment.\n",
        "\n",
        "* In exercise 1, you will implement the Bellman operator $T^*$ and verify its contraction property.\n",
        "* In exercise 2, you will implement value iteration.\n",
        "* In exercises 3 and 4, you will implement Q-Learning and SARSA.\n"
      ]
    },
    {
      "cell_type": "code",
      "metadata": {
        "id": "EjktDZ1kFZVk",
        "colab_type": "code",
        "colab": {}
      },
      "source": [
        "import sys\n",
        "sys.path.insert(0, './rlss2019-hands-on/utils')\n",
        "# If using the Docker image, replace by:\n",
        "# sys.path.insert(0, '../utils')\n",
        "\n",
        "import numpy as np\n",
        "from scipy.special import softmax # for SARSA\n",
        "import matplotlib.pyplot as plt\n",
        "from frozen_lake import FrozenLake\n",
        "from test_env import ToyEnv1"
      ],
      "execution_count": 0,
      "outputs": []
    },
    {
      "cell_type": "markdown",
      "metadata": {
        "id": "efqNQ7vLFZVq",
        "colab_type": "text"
      },
      "source": [
        "# FrozenLake environment"
      ]
    },
    {
      "cell_type": "markdown",
      "metadata": {
        "id": "qn43si4kFZVs",
        "colab_type": "text"
      },
      "source": [
        "(You can use ToyEnv1 to debug your algorithms)"
      ]
    },
    {
      "cell_type": "code",
      "metadata": {
        "id": "KZeaOozcFZVt",
        "colab_type": "code",
        "colab": {},
        "outputId": "75ec4e2a-d512-4a5d-f68b-8b5da52788cf"
      },
      "source": [
        "# Creating an instance of FrozenLake\n",
        "# --- If deterministic=False, transitions are stochastic. Try both cases!\n",
        "#env = FrozenLake(gamma=0.95, deterministic=False, data_path=\"./rlss2019-hands-on/data\") \n",
        "\n",
        "# Small environment for debugging\n",
        "env = ToyEnv1(gamma=0.95)\n",
        "\n",
        "# Useful attributes\n",
        "print(\"Set of states:\", env.states)\n",
        "print(\"Set of actions:\", env.actions)\n",
        "print(\"Number of states: \", env.Ns)\n",
        "print(\"Number of actions: \", env.Na)\n",
        "print(\"P has shape: \", env.P.shape)  # P[s, a, s'] = env.P[s, a, s']\n",
        "print(\"discount factor: \", env.gamma)\n",
        "print(\"\")\n",
        "\n",
        "# Usefult methods\n",
        "state = env.reset() # get initial state\n",
        "print(\"initial state: \", state)\n",
        "print(\"reward at (s=1, a=3,s'=2): \", env.reward_func(1,3,2))\n",
        "print(\"\")\n",
        "\n",
        "# A random policy\n",
        "policy = np.random.randint(env.Na, size = (env.Ns,))\n",
        "print(\"random policy = \", policy)\n",
        "\n",
        "# Interacting with the environment\n",
        "print(\"(s, a, s', r):\")\n",
        "for time in range(4):\n",
        "    action = policy[state]\n",
        "    next_state, reward, done, info = env.step(action)\n",
        "    print(state, action, next_state, reward)\n",
        "    if done:\n",
        "        break\n",
        "    state = next_state\n",
        "print(\"\")\n",
        "\n",
        "# Visualizing the environment\n",
        "try:\n",
        "    env.render()\n",
        "except:\n",
        "    pass # render not available"
      ],
      "execution_count": 0,
      "outputs": [
        {
          "output_type": "stream",
          "text": [
            "Set of states: [0, 1, 2]\n",
            "Set of actions: [0, 1]\n",
            "Number of states:  3\n",
            "Number of actions:  2\n",
            "P has shape:  (3, 2, 3)\n",
            "discount factor:  0.95\n",
            "\n",
            "initial state:  0\n",
            "reward at (s=1, a=3,s'=2):  1.0\n",
            "\n",
            "random policy =  [1 0 1]\n",
            "(s, a, s', r):\n",
            "0 1 1 0.0\n",
            "1 0 2 1.0\n",
            "2 1 2 1.0\n",
            "2 1 2 1.0\n",
            "\n"
          ],
          "name": "stdout"
        }
      ]
    },
    {
      "cell_type": "markdown",
      "metadata": {
        "id": "EotLWE-vFZV2",
        "colab_type": "text"
      },
      "source": [
        "# Exercise 1: Bellman operator\n",
        "\n",
        "1. Write a function that takes an environment and a state-action value function $Q$ as input and returns the Bellman optimality operator applied to $Q$, $T^* Q$ and the greedy policy with respect to $Q$.\n",
        "3. Let $Q_1$ and $Q_2$ be state-action value functions. Verify the contraction property:  $\\Vert T^* Q_1 - T^* Q_2\\Vert \\leq \\gamma ||Q_1 - Q_2||$, where $||Q|| = \\max_{s,a} |Q(s,a)|$."
      ]
    },
    {
      "cell_type": "code",
      "metadata": {
        "id": "9Bfcn6PRFZV4",
        "colab_type": "code",
        "colab": {}
      },
      "source": [
        "# --------------\n",
        "# Your answer to 1.\n",
        "# --------------\n",
        "def bellman_operator(Q, env):\n",
        "    TQ = 0\n",
        "    greedy_policy = []\n",
        "    ###\n",
        "    # To fill\n",
        "    ###\n",
        "    return TQ, greedy_policy"
      ],
      "execution_count": 0,
      "outputs": []
    },
    {
      "cell_type": "code",
      "metadata": {
        "id": "gdLv07R9FZV9",
        "colab_type": "code",
        "colab": {},
        "outputId": "ca75065a-c6b5-4afa-e02b-d850b0a16a6c"
      },
      "source": [
        "# --------------\n",
        "# Your answer to 2.\n",
        "# --------------\n",
        "print(\"Contraction of Bellman operator\")"
      ],
      "execution_count": 0,
      "outputs": [
        {
          "output_type": "stream",
          "text": [
            "Contraction of Bellman operator\n"
          ],
          "name": "stdout"
        }
      ]
    },
    {
      "cell_type": "markdown",
      "metadata": {
        "id": "Wj6zPghhFZWF",
        "colab_type": "text"
      },
      "source": [
        "# Exercise 2: Value iteration\n",
        "\n",
        "1. (Optimal Value function) Write a function that takes as input an initial state-action value function `Q0` and an environment `env` and returns a vector `Q` such that $||T^* Q -  Q ||_\\infty \\leq \\varepsilon $ and the greedy policy with respect to $Q$.\n",
        "2. Test the convergence of the function you implemented."
      ]
    },
    {
      "cell_type": "code",
      "metadata": {
        "id": "gRr9IZZvFZWI",
        "colab_type": "code",
        "colab": {}
      },
      "source": [
        "# --------------\n",
        "# Your answer to 1.\n",
        "# --------------\n",
        "def value_iteration(Q0, env, epsilon=1e-5):\n",
        "    \"\"\"\n",
        "    Finding the optimal value function. To be done!\n",
        "    \"\"\"\n",
        "    TQ = 0\n",
        "    greedy_policy = []\n",
        "    return TQ, greedy_policy"
      ],
      "execution_count": 0,
      "outputs": []
    },
    {
      "cell_type": "code",
      "metadata": {
        "id": "pm0x1FqDFZWN",
        "colab_type": "code",
        "colab": {}
      },
      "source": [
        "# --------------\n",
        "# Your answer to 2.\n",
        "# --------------"
      ],
      "execution_count": 0,
      "outputs": []
    },
    {
      "cell_type": "markdown",
      "metadata": {
        "id": "sK-q6wgUFZWS",
        "colab_type": "text"
      },
      "source": [
        "# Exercise 3: Q-Learning\n",
        "\n",
        "#####  Q-learning\n",
        "\n",
        "The Q-Learning algorithm allows us to estimate the optimal Q function using only trajectories from the MDP obtained by following some exploration policy. \n",
        "\n",
        "Q-learning with $\\varepsilon$-greedy exploration does the following update at time $t$:\n",
        "\n",
        "1. In state $s_t$, take action $a_t$  such that $a_t$ is random with probability $\\varepsilon$ and $a_t \\in \\arg\\max_a \\hat{Q}_t(s_t,a) $ with probability $1-\\varepsilon$ (**act function**);\n",
        "2. Observe $s_{t+1}$ and reward $r_t$ (**step in the environment**);\n",
        "3. Compute $\\delta_t = r_t + \\gamma \\max_a \\hat{Q}_t(s_{t+1}, a) - \\hat{Q}_t(s_t, a_t)$ (**to be done in .optimize()**) ;\n",
        "4. Update $\\hat{Q}_{t+1}(s, a) = \\hat{Q}_t(s, a) + \\alpha_t(s,a)\\delta_t\\mathbb{1}\\{s=s_t, a=a_t\\}$ (**in optimize too**)\n",
        "\n",
        "\n",
        "Implement Q-learning and test its convergence."
      ]
    },
    {
      "cell_type": "code",
      "metadata": {
        "id": "o1FgQPJYFZWU",
        "colab_type": "code",
        "colab": {}
      },
      "source": [
        "#-------------------------------\n",
        "# Q-Learning implementation\n",
        "# ------------------------------\n",
        "\n",
        "class QLearning:\n",
        "    \"\"\"\n",
        "    Implements Q-learning algorithm with epsilon-greedy exploration\n",
        "    \"\"\"\n",
        "    def __init__(self, env, gamma, learning, epsilon): # You can add more argument to your init (lr decay, eps decay)\n",
        "        pass\n",
        "    \n",
        "    def act(state, greedy=False, ...): # You don't have to use this template for your algorithm, those are just hints\n",
        "        \"\"\"\n",
        "        Takes a state as input and outputs an action (acting greedily or not with respect to the q function)\n",
        "        \"\"\"\n",
        "        pass\n",
        "    \n",
        "    def optimize(state, action_taken, next_state, reward, ...):\n",
        "        \"\"\"\n",
        "        Takes (s, a, s', r) as input and optimize the Q function\n",
        "        \"\"\"\n",
        "        pass"
      ],
      "execution_count": 0,
      "outputs": []
    },
    {
      "cell_type": "code",
      "metadata": {
        "scrolled": true,
        "id": "TtLTvFtZFZWZ",
        "colab_type": "code",
        "colab": {}
      },
      "source": [
        "# ---------------------------\n",
        "# Convergence of Q-Learning\n",
        "# ---------------------------\n",
        "\n",
        "# Number of Q learning iterations\n",
        "n_steps = int(1e5)  \n",
        "#n_steps = 10\n",
        "\n",
        "Q0 = np.zeros((env.Ns, env.Na))\n",
        "# You can use Q_opt from value iteration to check the correctness of q learning\n",
        "Q_opt, pi_opt = value_iteration(Q0, env, epsilon=1e-6)\n",
        "#       ^ and the optimal policy too"
      ],
      "execution_count": 0,
      "outputs": []
    },
    {
      "cell_type": "markdown",
      "metadata": {
        "id": "5l2d-bKCFZWe",
        "colab_type": "text"
      },
      "source": [
        "# Exercise 4: SARSA\n",
        "\n",
        "SARSA is similar to Q-learning, but it is an *on-policy* algorithm: it follows a (stochastic) policy $\\pi_Q$ and updates its estimate towards the value of this policy. One possible choice is:\n",
        "\n",
        "$$\n",
        "\\pi_Q(a|s) = \\frac{ \\exp(\\tau^{-1}Q(s,a))  }{\\sum_{a'}\\exp(\\tau^{-1}Q(s,a')) }\n",
        "$$\n",
        "where $\\tau$ is a \"temperature\" parameter: when $\\tau$ approaches 0, $\\pi_Q(a|s)$ approaches the greedy (deterministic) policy $a \\in \\arg\\max_{a'}Q(s,a')$.\n",
        "\n",
        "At each time $t$, SARSA keeps an estimate $\\hat{Q}_t$ of the true Q function and uses $\\pi_{\\hat{Q}_t}(a|s)$ to choose the action $a_t$. If $\\tau \\to 0$ with a proper rate as $t \\to \\infty$, $\\hat{Q}_t$ converges to $Q$ and $\\pi_{\\hat{Q}_t}(a|s)$ converges to the optimal policy $\\pi^*$. \n",
        "\n",
        "The SARSA update at time $t$ is done as follows:\n",
        "\n",
        "1. In state $s_t$, take action $a_t \\sim \\pi_{\\hat{Q}_t}(a|s_t)$ ;\n",
        "2. Observe $s_{t+1}$ and reward $r_t$;\n",
        "3. Sample the next action $a_{t+1} \\sim \\pi_{\\hat{Q}_t}(a|s_{t+1})$;\n",
        "4. Compute $\\delta_t = r_t + \\gamma \\hat{Q}_t(s_{t+1}, a_{t+1}) - \\hat{Q}_t(s_t, a_t)$\n",
        "5. Update $\\hat{Q}_{t+1}(s, a) = \\hat{Q}_t(s, a) + \\alpha_t(s,a)\\delta_t\\mathbb{1}\\{s=s_t, a=a_t\\}$"
      ]
    },
    {
      "cell_type": "code",
      "metadata": {
        "id": "oGJ1-PLjFZWf",
        "colab_type": "code",
        "colab": {}
      },
      "source": [
        "#-------------------------------\n",
        "# SARSA implementation\n",
        "# ------------------------------\n",
        "\n",
        "class Sarsa:\n",
        "    \"\"\"\n",
        "    Implements SARSA algorithm.\n",
        "    \"\"\"\n",
        "    def __init__(self, env, gamma, learning_rate=None, tau=1.0): # Again, those are suggestions, you can add more arguments\n",
        "        pass\n",
        "    def act():\n",
        "        pass\n",
        "    def optimize():\n",
        "        pass\n"
      ],
      "execution_count": 0,
      "outputs": []
    },
    {
      "cell_type": "code",
      "metadata": {
        "id": "7FqZ4_S2FZWj",
        "colab_type": "code",
        "colab": {}
      },
      "source": [
        "# ---------------------------\n",
        "# Convergence of SARSA\n",
        "# ---------------------------\n",
        "\n",
        "# Create SARSA object\n",
        "sarsa = Sarsa(env, gamma=env.gamma)\n",
        "\n",
        "# Again, you can use Q_opt and pi_opt from value_iteration to check sarsa's convergence. "
      ],
      "execution_count": 0,
      "outputs": []
    },
    {
      "cell_type": "markdown",
      "metadata": {
        "id": "ckpemlVQFZWn",
        "colab_type": "text"
      },
      "source": [
        "How those two algorithms behave ? \n",
        "Do both of them find the optimal policy ?"
      ]
    },
    {
      "cell_type": "markdown",
      "metadata": {
        "id": "ehVoIck1FZWp",
        "colab_type": "text"
      },
      "source": [
        "## Trying other algorithms\n",
        "\n",
        "\n",
        "### Policy iteration\n",
        "Policy iteration is another algorithm to find an optimal policy when the MDP is known:\n",
        "\n",
        "$$\n",
        "\\pi_{n} \\gets \\mathrm{greedy}(V_{\\pi_{n-1}}) \\\\\n",
        "V_{\\pi_n} \\gets \\mbox{policy-evaluation}(\\pi_n)\n",
        "$$\n",
        "For any arbitrary $\\pi_0$, $\\pi_n$ converges to $\\pi^*$.\n",
        "\n",
        "Implement policy iteration and compare it to value iteration.\n",
        "\n",
        "\n",
        "### Stochastic algorithms for policy evaluation\n",
        "\n",
        "Given a policy $\\pi$, implement different stochastic algorithms to estimate its value $V_\\pi$.\n",
        "\n",
        "#### Monte Carlo estimation\n",
        "\n",
        "$$\n",
        "V_\\pi(s) = E\\left[ \\sum_{t=0}^\\infty \\gamma^t r(S_t, A_t, S_{t+1}) | S_0 = s \\right] \\approx \\frac{1}{N} \\sum_{i=1}^N \\sum_{t=0}^{T} \\gamma^t r(s_t^i, a_t^i, s_{t+1}^i) \n",
        "$$\n",
        "\n",
        "\n",
        "#### TD(0): \n",
        "\n",
        "Given a trajectory $ (x_t, x_{t+1}, r_t)_{t\\geq 0} $ , the $t$-th step of TD(0) performs the following calculations:\n",
        "\n",
        "$ \\delta_t = r_t + \\gamma \\hat{V}_t(x_{t+1}) - \\hat{V}_t(x_t)$\n",
        "\n",
        "$ \\hat{V}_{t+1}(x) = \\hat{V}_t(x) + \\alpha_t(x)\\delta_t\\mathbb{1}\\{x=x_t\\}  $ \n",
        "\n",
        "where $\\alpha_t(x_t)$ is the step size and $\\delta_t$ is called *temporal difference*.\n",
        "\n",
        "#### TD($\\lambda$):\n",
        "\n",
        "Given a trajectory $ (x_t, x_{t+1}, r_t)_{t\\geq 0} $, the $t$-th step of TD($\\lambda$) performs the following calculations:\n",
        "\n",
        "$ \\delta_t = r_t + \\gamma \\hat{V}_t(x_{t+1}) - \\hat{V}_t(x_t)$\n",
        "\n",
        "$ z_{t+1}(x) = \\mathbb{1}\\{x=x_t\\} + \\gamma \\lambda z_t(x)  $ \n",
        "\n",
        "$ \\hat{V}_{t+1}(x) = \\hat{V}_t(x) + \\alpha_t(x)\\delta_t z_{t+1}(x)  $ \n",
        "\n",
        "$ z_0(x) = 0 $\n",
        "\n",
        "for all states $x$."
      ]
    },
    {
      "cell_type": "code",
      "metadata": {
        "id": "6HofYDn4FZWr",
        "colab_type": "code",
        "colab": {}
      },
      "source": [
        ""
      ],
      "execution_count": 0,
      "outputs": []
    }
  ]
}