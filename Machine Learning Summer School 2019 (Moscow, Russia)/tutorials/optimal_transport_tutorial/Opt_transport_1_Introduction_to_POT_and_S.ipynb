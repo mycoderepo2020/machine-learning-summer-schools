{
 "cells": [
  {
   "cell_type": "markdown",
   "metadata": {
    "colab_type": "text",
    "id": "KV6ChN5Nt4fj"
   },
   "source": [
    "# MLSS 2019: Optimal Transport and Wasserstein Distances"
   ]
  },
  {
   "cell_type": "markdown",
   "metadata": {
    "colab_type": "text",
    "id": "Zb-hmuept4fl"
   },
   "source": [
    "The goal of this first practical session is to introduce computational optimal transport (OT) in Python. You will familiarize yourself with OT by:\n",
    "1. using the Python library POT (Python Optimal Transport),\n",
    "2. coding Sinkhorn's algorithm.\n",
    "\n",
    "In the second practical session, we will use optimal transport as a nice geometrical tool in machine learning."
   ]
  },
  {
   "cell_type": "markdown",
   "metadata": {
    "colab_type": "text",
    "id": "sbBHs3xPgCrm"
   },
   "source": [
    "<b>We are going to use Google Collab to run this notebook. In order to install all the necessary files run the following cells:</b>"
   ]
  },
  {
   "cell_type": "code",
   "execution_count": null,
   "metadata": {
    "colab": {},
    "colab_type": "code",
    "id": "zdbamnHGu7Tw"
   },
   "outputs": [],
   "source": [
    "import os\n",
    "!pip install --upgrade git+https://github.com/mlss-skoltech/tutorials.git#subdirectory=optimal_transport_tutorial"
   ]
  },
  {
   "cell_type": "code",
   "execution_count": null,
   "metadata": {
    "colab": {},
    "colab_type": "code",
    "id": "wGfIhryst4fm"
   },
   "outputs": [],
   "source": [
    "# Check your installation by importing POT\n",
    "!pip install pot\n",
    "import ot"
   ]
  },
  {
   "cell_type": "markdown",
   "metadata": {
    "colab_type": "text",
    "id": "Ahr5RgE4gtgS"
   },
   "source": [
    "Declare ```DATA_PATH``` as a path to the data from the tutorial package"
   ]
  },
  {
   "cell_type": "code",
   "execution_count": null,
   "metadata": {
    "colab": {},
    "colab_type": "code",
    "id": "SPIus7WThTpU"
   },
   "outputs": [],
   "source": [
    "import pkg_resources\n",
    "\n",
    "DATA_PATH = pkg_resources.resource_filename('optimaltransport', 'data/')"
   ]
  },
  {
   "cell_type": "markdown",
   "metadata": {
    "colab_type": "text",
    "id": "rRk-69jhgCrt"
   },
   "source": [
    "<b>If you are running this notebook locally, make sure to clone the tutorial repository:</b>\n",
    "\n",
    "```!pip install --upgrade git+https://github.com/mlss-skoltech/tutorials.git#subdirectory=optimal_transport_tutorial```\n",
    "\n",
    "\n",
    "\n",
    "And install the following package:\n",
    "\n",
    "* Install with pip: ```bash pip install pot```\n",
    "* Install with conda: ```bash conda install -c conda-forge pot ```"
   ]
  },
  {
   "cell_type": "code",
   "execution_count": null,
   "metadata": {
    "colab": {},
    "colab_type": "code",
    "id": "T1BG78Dtt4fp"
   },
   "outputs": [],
   "source": [
    "import numpy as np\n",
    "import matplotlib.pyplot as plt"
   ]
  },
  {
   "cell_type": "markdown",
   "metadata": {
    "colab_type": "text",
    "id": "_8RMdsSot4fr"
   },
   "source": [
    "## 1. Solving Exact OT: Linear Programming"
   ]
  },
  {
   "cell_type": "markdown",
   "metadata": {
    "colab_type": "text",
    "id": "tzPSVXint4fr"
   },
   "source": [
    "### Reminders on Optimal Transport"
   ]
  },
  {
   "cell_type": "markdown",
   "metadata": {
    "colab_type": "text",
    "id": "I67_BnZOt4fs"
   },
   "source": [
    "Optimal Transport is a theory that allows us to compare two (weighted) points clouds $(X, a)$ and $(Y, b)$, where $X \\in \\mathbb{R}^{n \\times d}$ and $Y \\in \\mathbb{R}^{m \\times d}$ are the locations of the $n$ (resp. $m$) points in dimension $d$, and $a \\in \\mathbb{R}^n$, $b \\in \\mathbb{R}^m$ are the weights. We ask that the total weights sum to one, i.e. $\\sum_{i=1}^n a_i = \\sum_{j=1}^m b_j = 1$."
   ]
  },
  {
   "cell_type": "markdown",
   "metadata": {
    "colab_type": "text",
    "id": "03yipBjGt4fs"
   },
   "source": [
    "The basic idea of Optimal Transport is to \"transport\" the mass located at points $X$ to the mass located at points $Y$.\n",
    "\n",
    "Let us denote by $\\mathcal{U}(a,b) = \\left\\{ P \\in \\mathbb{R}^{n \\times m} \\,|\\, P \\geq 0, \\sum_{j=1}^m P_{ij} = a_i, \\sum_{i=1}^n P_{ij} = b_j\\right\\}$ the set of admissible transport plans.\n",
    "\n",
    "If $P \\in \\mathcal{U}(a,b)$, the quantity $P_{ij} \\geq 0$ should be regarded as the mass transported from point $X_i$ to point $Y_j$. For this reason, it is called a *transport plan*.\n",
    "\n",
    "We will also consider a *cost matrix* $C \\in \\mathbb{R}^{n \\times m}$. The quantity $C_{ij}$ should be regarded as the cost paid for transporting one unit of mass from $X_i$ to $Y_j$. This cost is usually computed using the positions $X_i$ and $Y_j$, for example $C_{ij} = \\|X_i - Y_j\\|$ or $C_{ij} = \\|X_i - Y_j\\|^2$.\n",
    "\n",
    "Then transporting mass according to $P \\in \\mathcal{U}(a,b)$ has a total cost of $\\sum_{ij} P_{ij} C_{ij}$."
   ]
  },
  {
   "cell_type": "markdown",
   "metadata": {
    "colab_type": "text",
    "id": "icSHTV5Ut4ft"
   },
   "source": [
    "In \"Optimal Transport\", there is the word _Optimal_. Indeed, we want to find a transport plan $P \\in \\mathcal{U}(a,b)$ that will minimize its total cost. In other words, we want to solve\n",
    "$$\n",
    "    \\min_{P \\in \\mathcal{U}(a,b)} \\sum_{ij} C_{ij }P_{ij}.\n",
    "$$"
   ]
  },
  {
   "cell_type": "markdown",
   "metadata": {
    "colab_type": "text",
    "id": "pSsukYhWt4fu"
   },
   "source": [
    "This problem is a Linear Program: the objective function is linear in the variable $P$, and the constraints are linear in $P$. We can thus solve this problem using classical Linear Programming algorithms, such as the simplex algorithm."
   ]
  },
  {
   "cell_type": "markdown",
   "metadata": {
    "colab_type": "text",
    "id": "ckmQk8t9t4fv"
   },
   "source": [
    "If $P^*$ is a solution to the Optimal Transport problem, we will say that $P^*$ is an optimal transport plan between $(X, a)$ and $(Y, b)$, and that $\\sum_{ij} P^*_{ij} C_{ij}$ is the optimal transport distance between $(X, a)$ and $(Y, b)$: it is the minimal amount of \"energy\" that is necessary to transport the initial mass located at points $X$ to the target mass located at points $Y$."
   ]
  },
  {
   "cell_type": "markdown",
   "metadata": {
    "colab_type": "text",
    "id": "fRt9uBnWt4fw"
   },
   "source": [
    "### Computing Optimal \"Croissant\" Transport using POT"
   ]
  },
  {
   "cell_type": "markdown",
   "metadata": {
    "colab_type": "text",
    "id": "27EET8bAt4fw"
   },
   "source": [
    "We will solve the Bakery/Cafés problem of transporting croissants from a number of Bakeries to Cafés in Moscow.\n",
    "\n",
    "We use fictional positions, production and sale numbers (that both sum to the same value).\n",
    "\n",
    "We have acess to the position of Bakeries $X \\in \\mathbb{R}^{8 \\times 2}$ and their respective production $a \\in \\mathbb{R}^8$ which describe the source point cloud. The Cafés where the croissants are sold are defined by their position $Y \\in \\mathbb{R}^{5 \\times 2}$ and $b \\in \\mathbb{R}^{5}$."
   ]
  },
  {
   "cell_type": "code",
   "execution_count": null,
   "metadata": {
    "colab": {},
    "colab_type": "code",
    "id": "ACOcSFXqt4fx"
   },
   "outputs": [],
   "source": [
    "# Load the data\n",
    "import pickle\n",
    "\n",
    "with open(DATA_PATH + 'croissants.pickle', 'rb') as file:\n",
    "    croissants = pickle.load(file)\n",
    "\n",
    "X = croissants['bakery_pos']\n",
    "a = croissants['bakery_prod']\n",
    "Y = croissants['cafe_pos']\n",
    "b = croissants['cafe_prod']\n",
    "\n",
    "print('Bakery productions =', a)\n",
    "print('Café sales =', b)\n",
    "print('Total number of croissants =', a.sum())"
   ]
  },
  {
   "cell_type": "code",
   "execution_count": null,
   "metadata": {
    "colab": {},
    "colab_type": "code",
    "id": "W2hrrI_Xt4fz"
   },
   "outputs": [],
   "source": [
    "plt.figure(figsize=(8,8))\n",
    "plt.scatter(X[:,0], X[:,1], s=10*a, c='r', edgecolors='k', label='Bakeries')\n",
    "plt.scatter(Y[:,0], Y[:,1], s=10*b, c='b', edgecolors='k', label='Cafés')\n",
    "plt.legend(fontsize=20)\n",
    "plt.axis('off')\n",
    "plt.title('Moscow Bakeries and Cafés', fontsize=25)\n",
    "plt.show()"
   ]
  },
  {
   "cell_type": "markdown",
   "metadata": {
    "colab_type": "text",
    "id": "yAIYAif9t4f1"
   },
   "source": [
    "Let us now compute the cost matrix $C \\in \\mathbb{R}^{n \\times m}$. Here, we will use two different costs: $\\ell_1$ and $\\ell_2$ costs."
   ]
  },
  {
   "cell_type": "code",
   "execution_count": null,
   "metadata": {
    "colab": {},
    "colab_type": "code",
    "id": "77sLokEtt4f1"
   },
   "outputs": [],
   "source": [
    "C_1 = np.zeros((8,5)) # TODO: contains the l1 distances\n",
    "C_2 = np.zeros((8,5)) # TODO: contains the l2 distances"
   ]
  },
  {
   "cell_type": "markdown",
   "metadata": {
    "colab_type": "text",
    "id": "Cp968Q4ht4f3"
   },
   "source": [
    "We can now compute the Optimal Transport plan to transport the croissants from the bakeries to the cafés, for the two different costs."
   ]
  },
  {
   "cell_type": "code",
   "execution_count": null,
   "metadata": {
    "colab": {},
    "colab_type": "code",
    "id": "maFZKc0-t4f5"
   },
   "outputs": [],
   "source": [
    "optimal_plan_1 = ot.emd() # TODO: compute the exact OT plan using function ot.emd\n",
    "print(optimal_plan_1)\n",
    "optimal_cost_1 = # TODO: compute the OT cost for the l1 ground cost\n",
    "print('1-Wasserstein distance =', optimal_cost_1)\n",
    "print('')\n",
    "\n",
    "optimal_plan_2 = ot.emd() # TODO: compute the exact OT plan using function ot.emd\n",
    "print(optimal_plan_2)\n",
    "optimal_cost_2 = # TODO: compute the OT cost for the l2 ground cost\n",
    "print('2-Wasserstein distance =', np.sqrt(optimal_cost_2))"
   ]
  },
  {
   "cell_type": "code",
   "execution_count": null,
   "metadata": {
    "colab": {},
    "colab_type": "code",
    "id": "IMYthtNvt4f6"
   },
   "outputs": [],
   "source": [
    "fig = plt.figure(figsize=(17,8))\n",
    "\n",
    "ax = fig.add_subplot(1, 2, 1)\n",
    "ax.scatter(X[:,0], X[:,1], s=10*a, c='r', edgecolors='k', label='Bakeries')\n",
    "ax.scatter(Y[:,0], Y[:,1], s=10*b, c='b', edgecolors='k', label='Cafés')\n",
    "# TODO: plot a line between Bakery i and Café j whenever some croissants are transported between i and j\n",
    "ax.axis('off')\n",
    "ax.set_title('$\\ell_1$ cost', fontsize=30)\n",
    "\n",
    "ax = fig.add_subplot(1, 2, 2)\n",
    "ax.scatter(X[:,0], X[:,1], s=10*a, c='r', edgecolors='k', label='Bakeries')\n",
    "ax.scatter(Y[:,0], Y[:,1], s=10*b, c='b', edgecolors='k', label='Cafés')\n",
    "# TODO: plot a line between Bakery i and Café j whenever some croissants are transported between i and j\n",
    "ax.axis('off')\n",
    "ax.set_title('$\\ell_2$ cost', fontsize=30)\n",
    "\n",
    "plt.legend(fontsize=20)\n",
    "plt.show()"
   ]
  },
  {
   "cell_type": "markdown",
   "metadata": {
    "colab_type": "text",
    "id": "eWnTSM2-t4f9"
   },
   "source": [
    "## 2. Sinkhorn Algorithm for Entropy Regularized Optimal Transport"
   ]
  },
  {
   "cell_type": "markdown",
   "metadata": {
    "colab_type": "text",
    "id": "OS6IMu8Bt4f-"
   },
   "source": [
    "### Reminders on Sinkhorn Algorithm"
   ]
  },
  {
   "cell_type": "markdown",
   "metadata": {
    "colab_type": "text",
    "id": "eQncY7VGt4f-"
   },
   "source": [
    "In real applications, and especially in Machine Learning, we often have to deal with huge numbers of points. In this case, the linear programming algorithms which have cubic complexity will take too much time to run.\n",
    "\n",
    "That's why in practise, among other reasons, people minimize another criterion given by\n",
    "$$\n",
    "    \\min_{P \\in \\mathcal{U}(a,b)} \\langle C, P \\rangle + \\epsilon \\sum_{ij} P_{ij} [ \\log(P_{ij}) - 1].\n",
    "$$\n",
    "When $\\epsilon$ is sufficiently small, we can consider that a solution to the above problem (often refered to as \"Entropy-regularized Optimal Transport\") is a good approximation of a real optimal transport plan."
   ]
  },
  {
   "cell_type": "markdown",
   "metadata": {
    "colab_type": "text",
    "id": "7L05M4snt4f_"
   },
   "source": [
    "In order to solve this problem, one can remark that the optimality conditions imply that a solution $P_\\epsilon^*$ necessarily is of the form $P_\\epsilon^* = \\text{diag}(u) \\, K \\, \\text{diag}(v)$, where $K = \\exp(-C/\\epsilon)$ and $u,v$ are two non-negative vectors."
   ]
  },
  {
   "cell_type": "markdown",
   "metadata": {
    "colab_type": "text",
    "id": "4NxnPr1-t4gA"
   },
   "source": [
    "$P_\\epsilon^*$ should verify the constraints, i.e. $P_\\epsilon^* \\in \\mathcal{U}(a,b)$, so that\n",
    "$$\n",
    "    P_\\epsilon^* 1_m = a \\text{  and  } (P_\\epsilon^*)^T 1_n = b\n",
    "$$\n",
    "which can be rewritten as\n",
    "$$\n",
    "    u \\odot (Kv) = a \\text{  and  } v \\odot (K^T u) = b\n",
    "$$\n",
    "\n",
    "Then Sinkhorn's algorithm alternate between the resolution of these two equations, and reads\n",
    "$$\n",
    "    u \\leftarrow \\frac{a}{Kv} \\text{  and  } v \\leftarrow \\frac{b}{K^T u}\n",
    "$$"
   ]
  },
  {
   "cell_type": "code",
   "execution_count": null,
   "metadata": {
    "colab": {},
    "colab_type": "code",
    "id": "a4A4wbg3t4gA"
   },
   "outputs": [],
   "source": [
    "def sinkhorn(a, b, C, epsilon=0.1, max_iters=100):\n",
    "    \"\"\"Run Sinnkhorn's algorithm\"\"\"\n",
    "    \n",
    "    # TODO: Compute the kernel matrix K\n",
    "    \n",
    "    # TODO: Alternate projections\n",
    "    \n",
    "    return # TODO"
   ]
  },
  {
   "cell_type": "code",
   "execution_count": null,
   "metadata": {
    "colab": {},
    "colab_type": "code",
    "id": "8M5FuBFnt4gC"
   },
   "outputs": [],
   "source": [
    "np.round(sinkhorn(a, b, C_2/C_2.max(), epsilon=0.01), 2)"
   ]
  },
  {
   "cell_type": "code",
   "execution_count": null,
   "metadata": {
    "colab": {},
    "colab_type": "code",
    "id": "inUdN4eIt4gD"
   },
   "outputs": [],
   "source": [
    "optimal_plan_2"
   ]
  },
  {
   "cell_type": "markdown",
   "metadata": {
    "colab_type": "text",
    "id": "mhQOXGjEt4gF"
   },
   "source": [
    "We first show that this algorithm is consistent with classical optimal transport, using the \"croissant\" transport example."
   ]
  },
  {
   "cell_type": "code",
   "execution_count": null,
   "metadata": {
    "colab": {},
    "colab_type": "code",
    "id": "mWJnrT_Ot4gG"
   },
   "outputs": [],
   "source": [
    "plan_diff = []\n",
    "distance_diff = []\n",
    "for epsilon in np.linspace(0.01, 1, 100):\n",
    "    optimal_plan_sinkhorn = # TODO: compute OT plan using Sinkhorn, with regularization strength epsilon\n",
    "    optimal_cost_sinkhorn = # TODO: compute OT distance using Sinkhorn\n",
    "    plan_diff.append() # TODO: compute the Frobenius distance between the exact OT plan and the Sinkhorn OT plan\n",
    "    distance_diff.append() # TODO: compute the error between exact OT and Sinkhorn values (in %)"
   ]
  },
  {
   "cell_type": "code",
   "execution_count": null,
   "metadata": {
    "colab": {},
    "colab_type": "code",
    "id": "baCU3-hMt4gH"
   },
   "outputs": [],
   "source": [
    "plt.figure(figsize=(16,5))\n",
    "plt.loglog(np.linspace(0.01, 1, 100), plan_diff, lw=4)\n",
    "plt.xlabel('Regularization Strength $\\epsilon$', fontsize=25)\n",
    "plt.ylabel('$||P^* - P_\\epsilon^*||_F$', fontsize=25)\n",
    "plt.xticks(fontsize=20)\n",
    "plt.yticks(fontsize=20)\n",
    "plt.grid(ls='--')\n",
    "plt.show()"
   ]
  },
  {
   "cell_type": "code",
   "execution_count": null,
   "metadata": {
    "colab": {},
    "colab_type": "code",
    "id": "H7pedasSt4gJ"
   },
   "outputs": [],
   "source": [
    "plt.figure(figsize=(16,5))\n",
    "plt.loglog(np.linspace(0.01, 1, 100), distance_diff, lw=4)\n",
    "plt.xlabel('Regularization Strength $\\epsilon$', fontsize=25)\n",
    "plt.ylabel('Error in %', fontsize=25)\n",
    "plt.xticks(fontsize=20)\n",
    "plt.yticks(fontsize=20)\n",
    "plt.grid(ls='--')\n",
    "plt.show()"
   ]
  },
  {
   "cell_type": "markdown",
   "metadata": {
    "colab_type": "text",
    "id": "2fwnkgjpt4gL"
   },
   "source": [
    "Let us now compare the running time for sinkhorn and classical optimal transport algorithm on more data."
   ]
  },
  {
   "cell_type": "code",
   "execution_count": null,
   "metadata": {
    "colab": {},
    "colab_type": "code",
    "id": "hOfRY9Wut4gM"
   },
   "outputs": [],
   "source": [
    "n = 1000\n",
    "m = 1000\n",
    "d = 2\n",
    "\n",
    "X = np.random.randn(n,d)\n",
    "Y = np.random.randn(m,d)\n",
    "\n",
    "a = np.ones(n)\n",
    "b = np.ones(m)\n",
    "\n",
    "C = np.zeros((n,m))\n",
    "# TODO: compute the cost matrix (using l2 ground distance)"
   ]
  },
  {
   "cell_type": "markdown",
   "metadata": {
    "colab_type": "text",
    "id": "7jgwaUChtPAf"
   },
   "source": [
    "Because of Google Colab set up the time measuring can be unreliable, in order to get more certain results try running the code locally"
   ]
  },
  {
   "cell_type": "code",
   "execution_count": null,
   "metadata": {
    "colab": {
     "base_uri": "https://localhost:8080/",
     "height": 170
    },
    "colab_type": "code",
    "id": "SiRL17XYt4gP",
    "outputId": "e16c4fc2-1e3b-4c63-ca57-cfc1afac0613"
   },
   "outputs": [],
   "source": [
    "%time ot.emd(a,b,C)"
   ]
  },
  {
   "cell_type": "code",
   "execution_count": null,
   "metadata": {
    "colab": {
     "base_uri": "https://localhost:8080/",
     "height": 272
    },
    "colab_type": "code",
    "id": "uyt7TZBzpEDC",
    "outputId": "03a76a69-2668-400a-aab4-741f03ae0a0b"
   },
   "outputs": [],
   "source": [
    "%time sinkhorn(a,b,C)"
   ]
  },
  {
   "cell_type": "markdown",
   "metadata": {
    "colab_type": "text",
    "id": "OTbGsBvPt4gU"
   },
   "source": [
    "We see that sinkhorn is faster. What is even more interesting is that sinkhorn can be parallelerized on GPUs, giving further acceleration. Of course, Sinkhorn algorithm is not computing the exact optimal transport plan any more."
   ]
  },
  {
   "cell_type": "markdown",
   "metadata": {},
   "source": [
    "## 3. Optimal Transport in Dimension 1\n",
    "\n",
    "In dimension $d=1$, computing OT boils down to sorting the points. You will check this fact, and discuss the influence of the regularization strength $\\epsilon$."
   ]
  },
  {
   "cell_type": "code",
   "execution_count": null,
   "metadata": {},
   "outputs": [],
   "source": [
    "n = 4\n",
    "m = 4\n",
    "\n",
    "X = np.random.uniform(size=n)\n",
    "Y = np.random.uniform(size=m)\n",
    "\n",
    "a = np.ones(n)\n",
    "b = np.ones(m)\n",
    "\n",
    "plt.figure(figsize=(17,4))\n",
    "plt.scatter(X, np.zeros(n), s=200*a, c='r')\n",
    "plt.scatter(Y, np.zeros(m), s=200*b, c='b')\n",
    "for i in range(n):\n",
    "    plt.gca().annotate(str(i+1), xy=(X[i],0.005), size=30, color='r', ha='center')\n",
    "for j in range(m):\n",
    "    plt.gca().annotate(str(j+1), xy=(Y[j],0.005), size=30, color='b', ha='center')\n",
    "plt.axis('off')\n",
    "plt.show()"
   ]
  },
  {
   "cell_type": "code",
   "execution_count": null,
   "metadata": {},
   "outputs": [],
   "source": [
    "# TODO: Compute the OT plan using sorting, POT, and Sinkhorn. Discuss the results and the running times."
   ]
  }
 ],
 "metadata": {
  "accelerator": "GPU",
  "colab": {
   "name": "MLSS 1 Introduction to POT and Sinkhorn Algorithm (student version).ipynb",
   "provenance": [],
   "version": "0.3.2"
  },
  "kernelspec": {
   "display_name": "Python 3",
   "language": "python",
   "name": "python3"
  },
  "language_info": {
   "codemirror_mode": {
    "name": "ipython",
    "version": 3
   },
   "file_extension": ".py",
   "mimetype": "text/x-python",
   "name": "python",
   "nbconvert_exporter": "python",
   "pygments_lexer": "ipython3",
   "version": "3.7.1"
  }
 },
 "nbformat": 4,
 "nbformat_minor": 1
}
