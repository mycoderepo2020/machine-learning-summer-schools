{
  "nbformat": 4,
  "nbformat_minor": 0,
  "metadata": {
    "colab": {
      "name": "RLSS_Bandits_correction.ipynb",
      "version": "0.3.2",
      "provenance": [],
      "toc_visible": true
    },
    "language_info": {
      "codemirror_mode": {
        "name": "ipython",
        "version": 3
      },
      "file_extension": ".py",
      "mimetype": "text/x-python",
      "name": "python",
      "nbconvert_exporter": "python",
      "pygments_lexer": "ipython3",
      "version": "3.6.8"
    },
    "kernelspec": {
      "display_name": "Python 3",
      "language": "python",
      "name": "python3"
    }
  },
  "cells": [
    {
      "cell_type": "markdown",
      "metadata": {
        "id": "StGsDuF_Whon",
        "colab_type": "text"
      },
      "source": [
        "# Practical Session : Playing Stochastic Multi-Armed Bandit Games\n",
        "\n",
        "Code inspired by the [Pyma bandit library](https://www.di.ens.fr/~cappe/Code/PymaBandits/) by O. Cappé and A. Garivier and the [SMPyBandit library](https://github.com/SMPyBandits/SMPyBandits) of Lilian Besson."
      ]
    },
    {
      "cell_type": "code",
      "metadata": {
        "id": "xm3EFUiMWho1",
        "colab_type": "code",
        "colab": {}
      },
      "source": [
        "import numpy as np\n",
        "from matplotlib import pyplot as plt\n",
        "import time\n",
        "\n",
        "# Bandit specific functions and classes \n",
        "import Arms as arm\n",
        "from StochasticBandit import *\n",
        "from BanditTools import * \n",
        "import BanditBaselines as alg"
      ],
      "execution_count": 0,
      "outputs": []
    },
    {
      "cell_type": "markdown",
      "metadata": {
        "id": "CnC90yPhWhpQ",
        "colab_type": "text"
      },
      "source": [
        "# I) Understanding the experimental setup with naive bandit strategies\n",
        "\n",
        "\n",
        "### 1) Creating a bandit environnement\n",
        "\n",
        "Different arm classes are defined in `Arms.py` (you are welcome to add more!). To define a multi-armed bandit (a `MAB` object), you need to input a list of such arms. Some functions in `StochasticBandits.py` also define directly some particular MAB objects. \n"
      ]
    },
    {
      "cell_type": "code",
      "metadata": {
        "id": "P1bpRGo1WhpW",
        "colab_type": "code",
        "colab": {}
      },
      "source": [
        "nbArms = 3\n",
        "bandit1 = MAB([arm.Bernoulli(0.2),arm.Gaussian(3,1),arm.TruncatedExponential(2,1)])\n",
        "bandit2 = BernoulliBandit([0.3,0.4,0.5]) # directly creates a Bernoulli bandit from a vector of means\n",
        "\n",
        "print(\"The means of bandit instance 1 are\", bandit1.means)\n",
        "print(\"The means of bandit instance 2 are\", bandit2.means)\n",
        "\n"
      ],
      "execution_count": 0,
      "outputs": []
    },
    {
      "cell_type": "markdown",
      "metadata": {
        "id": "TQceO7tuWhpq",
        "colab_type": "text"
      },
      "source": [
        "### 2) Executing a simple bandit strategy\n",
        "\n",
        "The function given below executes one bandit algorithm on one MAB instance. "
      ]
    },
    {
      "cell_type": "code",
      "metadata": {
        "id": "Mc53yKUNWhpw",
        "colab_type": "code",
        "colab": {}
      },
      "source": [
        "def OneBanditOneLearnerOneRun(bandit, learner, timeHorizon):\n",
        "    \"\"\"\n",
        "    Run a bandit strategy (learner) on a MAB instance (bandit) for (timeHorizon) time steps\n",
        "    output : sequence of arms chosen, sequence of rewards obtained\n",
        "    \"\"\"\n",
        "    selections = []\n",
        "    rewards = []\n",
        "    learner.clear() # reset previous history\n",
        "    for t in range(0,timeHorizon):\n",
        "        arm = learner.chooseArmToPlay()\n",
        "        reward=bandit.generateReward(arm)\n",
        "        learner.receiveReward(arm,reward)\n",
        "        # Update statistics\n",
        "        selections.append(arm)\n",
        "        rewards.append(reward)\n",
        "    return selections,rewards\n",
        "    \n",
        "def CumulativeRegret(bandit,selections):\n",
        "    \"\"\"Compute the pseudo-regret associated to a sequence of arm selections\"\"\"\n",
        "    return np.cumsum(max(bandit.means)*np.ones(len(selections)) - np.array(bandit.means)[selections])"
      ],
      "execution_count": 0,
      "outputs": []
    },
    {
      "cell_type": "markdown",
      "metadata": {
        "id": "ghgw0SD1WhqA",
        "colab_type": "text"
      },
      "source": [
        "For the moment, we implemented two naive bandit strategy : the greedy strategy (or Follow-the-Leader, `FTL`) and a strategy that explores arms uniformly at random (`UniformExploration`). Such strategies (as the one you will implement) are defined as objects in `BanditsAlgorithms.py`. Below we run `FTL` on one of the bandit instances defined above, and visualize its behavior."
      ]
    },
    {
      "cell_type": "code",
      "metadata": {
        "scrolled": true,
        "id": "3KdllLxJWhqF",
        "colab_type": "code",
        "colab": {}
      },
      "source": [
        "timeHorizon = 200\n",
        "bandit = bandit2\n",
        "learner = alg.FTL(nbArms)\n",
        "\n",
        "selections,rewards = OneBanditOneLearnerOneRun(bandit, learner, timeHorizon)\n",
        "regret = CumulativeRegret(bandit,selections)\n",
        "\n",
        "# Visualize results (on one run) \n",
        "\n",
        "# Histogram of the number of arms selections\n",
        "plt.clf()\n",
        "plt.xlabel(\"Arms\", fontsize=14)\n",
        "plt.ylabel(\"Number of arms selections\", fontsize=14)\n",
        "plt.hist(selections, max(selections) + 1)\n",
        "plt.title(\"Number of selections of each arm\", fontsize=14)\n",
        "# pl.savefig('./Figure/test'+ learner.name() + '.pdf')\n",
        "\n",
        "# Cumulative regret as a function of time\n",
        "plt.figure(2)\n",
        "plt.clf()\n",
        "plt.xlabel(\"Time steps\", fontsize=14)\n",
        "plt.ylabel(\"Cumulative regret\", fontsize=14)\n",
        "plt.title(\"Regret as a function of time\")\n",
        "plt.plot(range(0, timeHorizon), regret, 'black', linewidth=1)\n",
        " "
      ],
      "execution_count": 0,
      "outputs": []
    },
    {
      "cell_type": "markdown",
      "metadata": {
        "id": "5a1exjgTWhqX",
        "colab_type": "text"
      },
      "source": [
        "### 3) Comparing two (bad) learners on one run\n",
        "\n",
        "We now compare pure exploration and pure exploitation on a single run. If you run this code multiple time, you will have very different results."
      ]
    },
    {
      "cell_type": "code",
      "metadata": {
        "id": "CPZrSPFqWhqd",
        "colab_type": "code",
        "colab": {}
      },
      "source": [
        "learner1 = alg.UniformExploration(nbArms)\n",
        "learner2 = alg.FTL(nbArms)\n",
        "\n",
        "# Run the two learners\n",
        "selections,rewards = OneBanditOneLearnerOneRun(bandit, learner1, timeHorizon)\n",
        "regret1 = CumulativeRegret(bandit,selections)\n",
        "selections,rewards = OneBanditOneLearnerOneRun(bandit, learner2, timeHorizon)\n",
        "regret2 = CumulativeRegret(bandit,selections)\n",
        "\n",
        "# Compare their regret\n",
        "plt.xlabel(\"Time steps\", fontsize=14)\n",
        "plt.ylabel(\"Cumulative regret\", fontsize=14)\n",
        "plt.title(\"Regret as a function of time\")\n",
        "plt.plot(range(0, timeHorizon), regret1,label=learner1.name())\n",
        "plt.plot(range(0, timeHorizon), regret2,label=learner2.name())\n",
        "plt.legend()"
      ],
      "execution_count": 0,
      "outputs": []
    },
    {
      "cell_type": "markdown",
      "metadata": {
        "id": "EOyZy5FIWhqu",
        "colab_type": "text"
      },
      "source": [
        "### 4) Comparison averaged over multiple runs\n",
        "\n",
        "The regret is defined as an **expectation**, so we need several runs to **estimate** its value. We can also take a look at the distribution of the pseudo-regret. The function below gathers results accross multiple runs."
      ]
    },
    {
      "cell_type": "code",
      "metadata": {
        "id": "06GnW6mFWhqz",
        "colab_type": "code",
        "colab": {}
      },
      "source": [
        "def OneBanditOneLearnerMultipleRuns(bandit, learner, timeHorizon, N_exp, tsave=[]):\n",
        "    if (len(tsave) == 0):\n",
        "        tsave = np.arange(timeHorizon)\n",
        "    savedTimes = len(tsave)\n",
        "    Regret = np.zeros((N_exp,savedTimes)) # Store the regret values on different runs\n",
        "    for n in range(N_exp):\n",
        "        np.random.seed()\n",
        "        selections,rewards = OneBanditOneLearnerOneRun(bandit,learner,timeHorizon)\n",
        "        regret_one_run = CumulativeRegret(bandit,selections)\n",
        "        Regret[n,:] = np.array(regret_one_run)[tsave] # Store a sub-sampling of the cumulative regret\n",
        "    return Regret"
      ],
      "execution_count": 0,
      "outputs": []
    },
    {
      "cell_type": "markdown",
      "metadata": {
        "id": "I0bXeovUWhrD",
        "colab_type": "text"
      },
      "source": [
        "#### a) For one algorithm (FTL)"
      ]
    },
    {
      "cell_type": "code",
      "metadata": {
        "id": "95JC4ap-WhrG",
        "colab_type": "code",
        "colab": {}
      },
      "source": [
        "N_exp = 200\n",
        "timeHorizon = 200\n",
        "tsave = np.arange(1, timeHorizon, 10)\n",
        "Regret = OneBanditOneLearnerMultipleRuns(bandit, learner2, timeHorizon, N_exp, tsave)"
      ],
      "execution_count": 0,
      "outputs": []
    },
    {
      "cell_type": "markdown",
      "metadata": {
        "id": "gUcd8vO6WhrU",
        "colab_type": "text"
      },
      "source": [
        "One can start by displaying the mean regret and some quantiles. "
      ]
    },
    {
      "cell_type": "code",
      "metadata": {
        "id": "jeFrpgpRWhra",
        "colab_type": "code",
        "colab": {}
      },
      "source": [
        "meanRegret = np.mean(Regret,0)\n",
        "upperQuantile = np.quantile(Regret,0.95,0) # requires numpy 1.15\n",
        "lowerQuantile = np.quantile(Regret,0.05,0)\n",
        "\n",
        "plt.clf()\n",
        "plt.plot(tsave,meanRegret,linewidth=3.0,color=\"b\",label=\"mean regret for\" + learner2.name())\n",
        "plt.plot(tsave,upperQuantile,linestyle=\"dashed\",color=\"b\")\n",
        "plt.plot(tsave,lowerQuantile,linestyle=\"dashed\",color=\"b\")\n",
        "plt.legend()\n"
      ],
      "execution_count": 0,
      "outputs": []
    },
    {
      "cell_type": "markdown",
      "metadata": {
        "id": "0hsd6WNUWhro",
        "colab_type": "text"
      },
      "source": [
        "To highlight the variability of the regret, one can also look at the histogram of the value of $R_T$."
      ]
    },
    {
      "cell_type": "code",
      "metadata": {
        "id": "-egGMZbgWhrs",
        "colab_type": "code",
        "colab": {}
      },
      "source": [
        "FinalRegret = Regret[:,(len(tsave)-1)]\n",
        "plt.clf()\n",
        "plt.xlabel(\"Regret at time T=\" + str(timeHorizon), fontsize=14)\n",
        "plt.ylabel(\"Counts\", fontsize=14)\n",
        "plt.hist(FinalRegret, 15)\n",
        "plt.title(\"Histogram of the final regret\", fontsize=14)\n",
        "plt.show()\n"
      ],
      "execution_count": 0,
      "outputs": []
    },
    {
      "cell_type": "markdown",
      "metadata": {
        "id": "S4rliwcrWhrz",
        "colab_type": "text"
      },
      "source": [
        "#### b) FTL versus Uniform"
      ]
    },
    {
      "cell_type": "code",
      "metadata": {
        "id": "p3NgdcgIWhr1",
        "colab_type": "code",
        "colab": {}
      },
      "source": [
        "N_exp = 200\n",
        "timeHorizon = 500\n",
        "tsave = np.arange(1,timeHorizon,10)\n",
        "\n",
        "Regret1 = OneBanditOneLearnerMultipleRuns(bandit,learner1,timeHorizon,N_exp,tsave)\n",
        "Regret2 = OneBanditOneLearnerMultipleRuns(bandit,learner2,timeHorizon,N_exp,tsave)\n",
        "\n",
        "plt.clf()\n",
        "plt.plot(tsave,np.mean(Regret1,0),linewidth=2.0,color=\"b\",label=\"mean regret of \"+learner1.name())\n",
        "plt.plot(tsave,np.quantile(Regret1,0.95,0),tsave,np.quantile(Regret1,0.05,0),linestyle=\"dashed\",color=\"b\")\n",
        "plt.plot(tsave,np.mean(Regret2,0),linewidth=2.0,color=\"r\",label=\"mean regret of \"+learner2.name())\n",
        "plt.plot(tsave,np.quantile(Regret2,0.95,0),tsave,np.quantile(Regret2,0.05,0),linestyle=\"dashed\",color=\"r\")\n",
        "plt.legend()\n",
        "plt.show()"
      ],
      "execution_count": 0,
      "outputs": []
    },
    {
      "cell_type": "markdown",
      "metadata": {
        "id": "Njkcs6cnWhr6",
        "colab_type": "text"
      },
      "source": [
        "As you can see, both algorithms have **linear regret**, although the pseudo-regret of FTL has a much higher variance. You are now ready to try smarter algorithms!"
      ]
    },
    {
      "cell_type": "markdown",
      "metadata": {
        "id": "58Yfb2ZMWhr8",
        "colab_type": "text"
      },
      "source": [
        "# II) The UCB1 algorithm\n",
        "\n",
        "The UCB1 algorithm was proposed by [Auer et al](https://homes.di.unimi.it/~cesabian/Pubblicazioni/ml-02.pdf) for bandit instances with bounded rewards (in $[0,1]$ to fix the ideas). One can extend it to depend on some parameter $\\alpha$: \n",
        "\n",
        "$$A_{t} = \\underset{a}{\\text{argmax}} \\left[\\hat{\\mu}_a(t-1) + \\sqrt{\\frac{\\alpha \\log(t)}{N_a(t-1)}}\\right],$$\n",
        "where $\\hat{\\mu}_a(t)$ is the empirical mean of arm $a$ after $t$ rounds and $N_a(t)$ is the number of selections of arm $a$ till that time. \n",
        "\n",
        "UCB1 was originally proposed with $\\alpha = 2$. Its analysis was later refined to allow for $\\alpha > 1/2$ (see [here](http://sbubeck.com/Bubeckthesis.pdf) or [here](https://hal.archives-ouvertes.fr/hal-00738209/file/klucb.pdf)).\n",
        "\n",
        "* Implement UCB($\\alpha$).\n"
      ]
    },
    {
      "cell_type": "code",
      "metadata": {
        "id": "gAN6mcu3Whr-",
        "colab_type": "code",
        "colab": {}
      },
      "source": [
        "class UCB:\n",
        "    \"\"\"UCB1 with parameter alpha\"\"\"\n",
        "    def __init__(self, nbArms, alpha=1/2):\n",
        "        self.nbArms = nbArms\n",
        "        self.alpha = alpha\n",
        "        self.clear()\n",
        "\n",
        "    def clear(self):\n",
        "        self.nbDraws = np.zeros(self.nbArms)\n",
        "        self.cumRewards = np.zeros(self.nbArms)\n",
        "        self.t = 0\n",
        "    \n",
        "    def chooseArmToPlay(self):\n",
        "        if (min(self.nbDraws)==0):\n",
        "            return randmax(-self.nbDraws)\n",
        "        else:\n",
        "            index = self.cumRewards/self.nbDraws + np.sqrt(self.alpha * log(self.t)/self.nbDraws)\n",
        "            return randmax(index) \n",
        "\n",
        "    def receiveReward(self, arm, reward):\n",
        "        self.t = self.t+1\n",
        "        self.nbDraws[arm]=self.nbDraws[arm]+1\n",
        "        self.cumRewards[arm]=self.cumRewards[arm]+reward\n",
        "\n",
        "    def name(self):\n",
        "        return \"UCB\""
      ],
      "execution_count": 0,
      "outputs": []
    },
    {
      "cell_type": "markdown",
      "metadata": {
        "id": "Ov3yqTOiWhsD",
        "colab_type": "text"
      },
      "source": [
        "* Pick a bounded bandit instance of your choice, and run UCB. Is the regret still linear?"
      ]
    },
    {
      "cell_type": "code",
      "metadata": {
        "id": "r5ilptdrWhsF",
        "colab_type": "code",
        "colab": {}
      },
      "source": [
        "bandit = MAB([arm.TruncatedExponential(2,1),arm.Bernoulli(0.3),arm.TruncatedExponential(3.5,1)])\n",
        "print(\"The arms means are\", bandit.means)\n",
        "\n",
        "# One run\n",
        "learner = UCB(3,0.5)\n",
        "selections,rewards = OneBanditOneLearnerOneRun(bandit,learner,500)\n",
        "\n",
        "plt.xlabel(\"Arms\", fontsize=14)\n",
        "plt.ylabel(\"Number of arms selections\", fontsize=14)\n",
        "plt.hist(selections, max(selections) + 1)\n",
        "plt.title(\"Number of selections of each arm\", fontsize=14)\n",
        "plt.show()"
      ],
      "execution_count": 0,
      "outputs": []
    },
    {
      "cell_type": "code",
      "metadata": {
        "id": "8V63ExqqWhsL",
        "colab_type": "code",
        "colab": {}
      },
      "source": [
        "# Multiple runs\n",
        "tsave = np.arange(1, timeHorizon, 1)\n",
        "Regret = OneBanditOneLearnerMultipleRuns(bandit,UCB(3),500,200,tsave)\n",
        "\n",
        "FinalRegret = Regret[:,len(tsave)-1]\n",
        "plt.xlabel(\"Regret at time T=\" + str(timeHorizon), fontsize=14)\n",
        "plt.ylabel(\"Counts\", fontsize=14)\n",
        "plt.hist(FinalRegret, 15)\n",
        "plt.title(\"Histogram of the final regret\", fontsize=14)\n",
        "\n",
        "plt.figure()\n",
        "plt.plot(tsave, np.mean(Regret,0), linewidth=2.0, color=\"b\", label=\"Mean regret of UCB\")\n",
        "plt.plot(tsave, np.quantile(Regret, 0.95, 0), tsave, np.quantile(Regret,0.05,0), linestyle=\"dashed\", color=\"b\")\n",
        "plt.show()"
      ],
      "execution_count": 0,
      "outputs": []
    },
    {
      "cell_type": "markdown",
      "metadata": {
        "id": "YdQdxPYpWhsO",
        "colab_type": "text"
      },
      "source": [
        "This looks much safer than FTL! The regret of UCB is logarithmic."
      ]
    },
    {
      "cell_type": "markdown",
      "metadata": {
        "id": "P4BbRWHoWhsP",
        "colab_type": "text"
      },
      "source": [
        "#### Influence of the parameter $\\alpha$\n",
        "\n",
        "* On a fixed bandit problem, run UCB with several values for the parameter $\\alpha$, and find the best value for this problem. "
      ]
    },
    {
      "cell_type": "code",
      "metadata": {
        "id": "3OaDxK6IWhsQ",
        "colab_type": "code",
        "colab": {}
      },
      "source": [
        "bandit = MAB([arm.Bernoulli(0.3),arm.Bernoulli(0.6),arm.Bernoulli(0.8),arm.TruncatedExponential(0.7,1)])\n",
        "print(\"The means in this bounded instance are\", bandit.means)"
      ],
      "execution_count": 0,
      "outputs": []
    },
    {
      "cell_type": "code",
      "metadata": {
        "id": "5XhgeRX2WhsW",
        "colab_type": "code",
        "colab": {}
      },
      "source": [
        "alphas = [0, 0.1, 0.2, 0.3, 0.5, 1]\n",
        "algos = [UCB(4,alpha) for alpha in alphas]\n",
        "colors = [\"b\", \"r\", \"g\", \"k\", \"c\", \"m\"]\n",
        "\n",
        "nbAlgos = len(alphas)\n",
        "\n",
        "N_exp = 200\n",
        "timeHorizon = 500\n",
        "tsave = np.arange(1,timeHorizon,20)\n",
        "\n",
        "regFinal = np.zeros(nbAlgos)\n",
        "\n",
        "for i in range(nbAlgos):\n",
        "    alpha = alphas[i]\n",
        "    learner = algos[i]\n",
        "    Regret = OneBanditOneLearnerMultipleRuns(bandit,learner,timeHorizon,N_exp,tsave)\n",
        "    plt.plot(tsave,np.mean(Regret,0),linewidth=2.0,color=colors[i],label=\"alpha =\"+str(alpha))\n",
        "    # plt.plot(tsave,np.quantile(Regret,0.95,0),tsave,np.quantile(Regret,0.05,0),linestyle=\"dashed\",color=colors[i])\n",
        "    regFinal[i] = np.mean(Regret,0)[len(tsave)-1]\n",
        "plt.legend()\n",
        "plt.show()\n",
        "\n",
        "print(\"The best alpha on this instance is alpha =\", alphas[np.argmin(regFinal)])"
      ],
      "execution_count": 0,
      "outputs": []
    },
    {
      "cell_type": "markdown",
      "metadata": {
        "id": "4Un42nRzWhsZ",
        "colab_type": "text"
      },
      "source": [
        "#### Influence of the minimal gap (regret on different instances)\n",
        "\n",
        "The function `RandomBernoulliBandit()` in `Stochastic_Bandits.py` allows to generate random Bernoulli bandit instance in which the gap between the best and second best arm has a certain value. \n",
        "\n",
        "* Visualize the regret for several instances with different values of the minimal gap $\\Delta$, and comment on its influence on the regret."
      ]
    },
    {
      "cell_type": "code",
      "metadata": {
        "scrolled": true,
        "id": "uUa8ac-vWhsb",
        "colab_type": "code",
        "colab": {}
      },
      "source": [
        "nbArms=3\n",
        "timeHorizon=1000\n",
        "nExp=200\n",
        "\n",
        "tsave = np.arange(1,timeHorizon,20)\n",
        "learner = UCB(nbArms)\n",
        "\n",
        "bandit1 = RandomBernoulliBandit(0.05,nbArms)\n",
        "Regret1 = OneBanditOneLearnerMultipleRuns(bandit1, learner, timeHorizon, 200, tsave)\n",
        "\n",
        "bandit2 = RandomBernoulliBandit(0.1,nbArms)\n",
        "Regret2 = OneBanditOneLearnerMultipleRuns(bandit2, learner, timeHorizon, 200, tsave)\n",
        "\n",
        "bandit3 = RandomBernoulliBandit(0.3,nbArms)\n",
        "Regret3 = OneBanditOneLearnerMultipleRuns(bandit3, learner, timeHorizon, 200, tsave)\n",
        "\n",
        "bandit4 = RandomBernoulliBandit(0.6,nbArms)\n",
        "Regret4 = OneBanditOneLearnerMultipleRuns(bandit4, learner, timeHorizon, 200, tsave)\n",
        "\n",
        "\n",
        "# Generate a name and plot the data\n",
        "plt.plot(tsave,np.mean(Regret1,axis=0), label='Delta = 0.05')\n",
        "plt.plot(tsave,np.mean(Regret2,axis=0), label='Delta = 0.1')\n",
        "plt.plot(tsave,np.mean(Regret3,axis=0), label='Delta = 0.3')\n",
        "plt.plot(tsave,np.mean(Regret4,axis=0), label='Delta = 0.6')\n",
        "\n",
        "plt.xlabel(\"Time steps\", fontsize=10)\n",
        "plt.ylabel(\"Cumulative regret\", fontsize=10)\n",
        "plt.legend()\n",
        "plt.show()"
      ],
      "execution_count": 0,
      "outputs": []
    },
    {
      "cell_type": "markdown",
      "metadata": {
        "id": "OHQ9fnUhWhsg",
        "colab_type": "text"
      },
      "source": [
        "On a MAB instance with bounded rewards, UCB (with parameter alpha = 1/2) is known to satisfy \n",
        "\n",
        "$$ \\mathcal{R}_T \\simeq  \\sum_{a,\\Delta_{a} > 0} \\frac{\\log(T)}{2\\Delta_{a}} \\simeq \\frac{K-1}{\\Delta}\\log(T)$$\n",
        "\n",
        "where $\\Delta$ is the minimal gap. In the above experiment, we indeed observe that the regret increases when $\\Delta$ gets smaller. But we will later be more precise on what really influences the regret rate of a bandit algorithm. "
      ]
    },
    {
      "cell_type": "markdown",
      "metadata": {
        "id": "we-1f1t2Whsi",
        "colab_type": "text"
      },
      "source": [
        "# III) Tweaking the UCB algorithm\n",
        "\n",
        "Applying the UCB algorithm to bounded rewards, the following tweaks are quite natural. First, the rewards are in $[0,1]$, but the UCB may be outside this interval, so in practice one may want to \"clip\" them to be in the interval $[0,1]$. Then, when breaking ties, instead of choosing at random, one may do it in favor of the least selected arm instead of uniformly at random. This suggests the following modification of UCB($\\alpha$):\n",
        "\n",
        "$$A_{t+1} = \\text{argmin}_{a} \\left\\{N_a(t) : a \\in \\text{argmax}_{a} \\min\\left[\\mathrm{UCB}_a(t) , 1\\right] \\right\\}$$\n",
        "\n",
        "* Implement this simple modification of UCB. "
      ]
    },
    {
      "cell_type": "code",
      "metadata": {
        "id": "_HAtA3v5Whsj",
        "colab_type": "code",
        "colab": {}
      },
      "source": [
        "class UCB_Tweak:\n",
        "    \"\"\"UCB1 with parameter alpha, taking the minimum between the UCB and one and breaking ties in favor of the least drawn arm\"\"\"\n",
        "    def __init__(self,nbArms,alpha=1/2):\n",
        "        self.nbArms = nbArms\n",
        "        self.alpha = alpha\n",
        "        self.clear()\n",
        "\n",
        "    def clear(self):\n",
        "        self.nbDraws = np.zeros(self.nbArms)\n",
        "        self.cumRewards = np.zeros(self.nbArms)\n",
        "        self.t = 0\n",
        "    \n",
        "    def chooseArmToPlay(self):\n",
        "        if (min(self.nbDraws)==0):\n",
        "            return randmax(-self.nbDraws)\n",
        "        else:\n",
        "            index = np.minimum(self.cumRewards/self.nbDraws + np.sqrt(self.alpha * log(self.t)/self.nbDraws),np.ones(self.nbArms))\n",
        "            maxVal = max(index)\n",
        "            candidates = [i for i in range(self.nbArms) if index[i]==maxVal]\n",
        "            to_draw = randmax(-self.nbDraws[candidates])\n",
        "            return candidates[to_draw]\n",
        "\n",
        "    def receiveReward(self, arm, reward):\n",
        "        self.t = self.t+1\n",
        "        self.nbDraws[arm]=self.nbDraws[arm]+1\n",
        "        self.cumRewards[arm]=self.cumRewards[arm]+reward\n",
        "\n",
        "    def name(self):\n",
        "        return \"UCB-Tweaked\""
      ],
      "execution_count": 0,
      "outputs": []
    },
    {
      "cell_type": "markdown",
      "metadata": {
        "id": "qmjg4gzLWhsp",
        "colab_type": "text"
      },
      "source": [
        "#### Different regret guarantees\n",
        "\n",
        "The guarantees of UCB1 are given in terms of expected regret. Some authors have proposed a variant of the algorithm with high probability guarantees (see, e.g., Section 6 of [this paper](https://papers.nips.cc/paper/4417-improved-algorithms-for-linear-stochastic-bandits.pdf)). For some small value of the parameter $\\delta$ (e.g. $\\delta = 0.05$), you can try the alternative UCB algorithm, based on the index \n",
        "\n",
        "$$\\widetilde{\\mathrm{UCB}}_a(t) = \\hat{\\mu}_a(t) + \\sqrt{\\frac{1 + \\frac{1}{N_a(t)}}{2N_a(t)}\\left(1 + 2\\ln\\left(\\frac{K\\sqrt{N_a(t) + 1}}{\\delta}\\right)\\right)}$$\n",
        "\n",
        "* Implement this \"high-probability\" UCB and compare it with the previous algorithms"
      ]
    },
    {
      "cell_type": "code",
      "metadata": {
        "id": "kHRcVsTfWhsq",
        "colab_type": "code",
        "colab": {}
      },
      "source": [
        "class UCB_Laplace:\n",
        "    \"\"\"UCB using other types of deviation inequalities\"\"\"\n",
        "    def __init__(self,nbArms,delta=0.01):\n",
        "        self.nbArms = nbArms\n",
        "        self.delta = delta\n",
        "        self.clear()\n",
        "        self.indices = np.ones(self.nbArms)\n",
        "\n",
        "    def clear(self):\n",
        "        self.nbDraws = np.zeros(self.nbArms)\n",
        "        self.cumRewards = np.zeros(self.nbArms)\n",
        "        self.t = 0\n",
        "    \n",
        "    def chooseArmToPlay(self):\n",
        "        maxVal = max(self.indices)\n",
        "        candidates = [i for i in range(self.nbArms) if self.indices[i]==maxVal]\n",
        "        to_draw = randmax(-self.nbDraws[candidates])\n",
        "        return candidates[to_draw]\n",
        "\n",
        "    def receiveReward(self, arm, reward):\n",
        "        self.t = self.t+1\n",
        "        self.nbDraws[arm]=self.nbDraws[arm]+1\n",
        "        self.cumRewards[arm]=self.cumRewards[arm]+reward\n",
        "        n = self.nbDraws[arm]\n",
        "        self.indices[arm] = min(1,self.cumRewards[arm]/n +sqrt(((1+1/n)/n)*(1+log(self.nbArms*sqrt(n+1)/self.delta))))\n",
        "\n",
        "    def name(self):\n",
        "        return \"UCB-Laplace\""
      ],
      "execution_count": 0,
      "outputs": []
    },
    {
      "cell_type": "code",
      "metadata": {
        "scrolled": true,
        "id": "WTMKph_LWhsv",
        "colab_type": "code",
        "colab": {}
      },
      "source": [
        "means = [0.1,0.2,0.3,0.4]\n",
        "\n",
        "bandit = BernoulliBandit(means)\n",
        "K = len(means)\n",
        "\n",
        "nExp = 200\n",
        "timeHorizon = 1000\n",
        "tsave = np.arange(1,timeHorizon,10)\n",
        "\n",
        "algos = [UCB(K),UCB_Tweak(K),UCB_Laplace(K)]\n",
        "colors = [\"b\",\"r\",\"g\",\"c\",\"m\"]\n",
        "\n",
        "for i in range(len(algos)):\n",
        "    algo = algos[i]\n",
        "    Regret = OneBanditOneLearnerMultipleRuns(bandit,algo,timeHorizon,nExp,tsave)\n",
        "    plt.plot(tsave,np.mean(Regret,0),linewidth=2.0,color=colors[i],label=algo.name())\n",
        "    plt.plot(tsave,np.quantile(Regret,0.99,0),tsave,np.quantile(Regret,0.01,0),linestyle=\"dashed\",color=colors[i])\n",
        "\n",
        "plt.legend()"
      ],
      "execution_count": 0,
      "outputs": []
    },
    {
      "cell_type": "markdown",
      "metadata": {
        "id": "ZjnQJvVLWhs0",
        "colab_type": "text"
      },
      "source": [
        "UCB-Laplace performs really well! However, it has different regret guarantees compared to the other algorithms: something like \n",
        "$$\\mathbb{P}\\left(\\forall t\\in \\mathbb{N}, \\mathcal{R}_t \\leq  C\\sum_{a : \\mu_a < \\mu_\\star}\\frac{1}{\\Delta_a}\\ln\\left(\\frac{K}{\\Delta_a \\delta}\\right) \\right)\\geq 1 - \\delta.$$\n",
        "Choosing $\\delta = 1/T$ would yield a logarithmic upper bound on the expected regret at time $T$, but possibly worse performance."
      ]
    },
    {
      "cell_type": "markdown",
      "metadata": {
        "id": "0XFMLs4GWhs2",
        "colab_type": "text"
      },
      "source": [
        "# IV) Complexity of a bandit problem \n",
        "\n",
        "On a Bernoulli bandit instance, the Lai and Robbins lower bound tells us that the regret is **asymptotically** no larger than \n",
        "\n",
        "$$\\left(\\sum_{a ,\\Delta_a > 0} \\frac{\\Delta_a}{\\mathrm{kl}(\\mu_a,\\mu_\\star)}\\right) \\log(T),$$\n",
        "where $\\mathrm{kl}(\\mu_a,\\mu_\\star)$ is the KL-divergence between the Bernoulli distribution of parameter $\\mu_a$ and the Bernoulli distribution of parameter $\\mu_\\star$. The constant in front of the $\\log(T)$ may be called the **complexity** of the bandit problem.\n",
        "\n",
        "* Write a function that computes the complexity of a Bernoulli bandit instance"
      ]
    },
    {
      "cell_type": "code",
      "metadata": {
        "id": "EGn-NJ59Whs6",
        "colab_type": "code",
        "colab": {}
      },
      "source": [
        "def Complexity(bandit):\n",
        "    mumax = bandit.means[bandit.bestarm]\n",
        "    complexity = 0\n",
        "    for a in range(bandit.nbArms):\n",
        "        mu = bandit.means[a]\n",
        "        if (mu != mumax):\n",
        "            complexity = complexity + (mumax - mu)/klBern(mu,mumax)\n",
        "    return complexity"
      ],
      "execution_count": 0,
      "outputs": []
    },
    {
      "cell_type": "markdown",
      "metadata": {
        "id": "_wY8XreCWhtE",
        "colab_type": "text"
      },
      "source": [
        "* On a Bernoulli bandit instance of your choice, add the theoretical lower bound $t \\mapsto C(\\nu) \\log(t)$ where $C(\\nu)$ is the complexity of the bandit problem to the regret curve of UCB. \n"
      ]
    },
    {
      "cell_type": "code",
      "metadata": {
        "id": "0OYE5jzZWhtH",
        "colab_type": "code",
        "colab": {}
      },
      "source": [
        "bandit = BernoulliBandit([0.2,0.35,0.4])\n",
        "timeHorizon = 4000\n",
        "nExp = 200\n",
        "\n",
        "tsave = np.arange(1,timeHorizon,10)\n",
        "LB = Complexity(bandit)*np.log(tsave)\n",
        "\n",
        "Regret = OneBanditOneLearnerMultipleRuns(bandit,UCB(3),timeHorizon,nExp,tsave)\n",
        "\n",
        "plt.plot(tsave,np.mean(Regret,axis=0), label='mean regret of UCB')\n",
        "plt.plot(tsave,LB,label=\"Lai and Robbins lower bound\")\n",
        "plt.title(\"UCB versus the lower bound\")\n",
        "plt.legend()\n"
      ],
      "execution_count": 0,
      "outputs": []
    },
    {
      "cell_type": "markdown",
      "metadata": {
        "id": "ADvA4c5KWhtk",
        "colab_type": "text"
      },
      "source": [
        "* Is UCB matching the lower bound? You may want to plot $\\mathcal{R}_t$ as a function of $\\log(t)$ (and look at large horizons) for a better check"
      ]
    },
    {
      "cell_type": "code",
      "metadata": {
        "scrolled": true,
        "id": "ISVqa1zbWhtm",
        "colab_type": "code",
        "colab": {}
      },
      "source": [
        "# log scale: check the slope \n",
        "plt.figure()\n",
        "plt.plot(np.log(tsave),np.mean(Regret,axis=0), label='Mean regret of UCB')\n",
        "plt.plot(np.log(tsave),LB,label=\"Lai and Robbins lower bound\")\n",
        "plt.title(\"Regret at time $t$ as a function of $\\log(t)$\")\n",
        "plt.legend()"
      ],
      "execution_count": 0,
      "outputs": []
    },
    {
      "cell_type": "markdown",
      "metadata": {
        "id": "Ek6txqfsWhtr",
        "colab_type": "text"
      },
      "source": [
        "The lower bound is super asymptotic! We see that UCB will eventually have a sub-optimal regret for large horizons... "
      ]
    },
    {
      "cell_type": "markdown",
      "metadata": {
        "id": "6iIV2R_7Whts",
        "colab_type": "text"
      },
      "source": [
        "# V) From UCB to kl-UCB"
      ]
    },
    {
      "cell_type": "markdown",
      "metadata": {
        "id": "lNa5Qyp_Whtt",
        "colab_type": "text"
      },
      "source": [
        "In the Bernoulli case, we now investigate an algorithm designed for matching the Lai and Robbins lower bound, that is $\\mathrm{kl}$-UCB, proposed by [Cappé et al](https://hal.archives-ouvertes.fr/hal-00738209/file/klucb.pdf). It is also a UCB algorithm, but the upper confidence bound is more sophisticated: \n",
        "\n",
        "$$\\mathrm{UCB}_a(t) = \\max \\left\\{ q : N_a(t) \\mathrm{kl}\\left(\\hat{\\mu}_a(t),q\\right) \\leq \\log(t) + c\\log\\log(t) \\right\\},$$\n",
        "where $\\mathrm{kl}(\\mu,\\mu')$ is the KL-divergence between the distribution with mean $\\mu$ and that of mean $\\mu'$ in some exponential family and $c$ is some real parameter (often chosen to be zero in practice).\n",
        "\n",
        "In the Bernoulli case, this is the Bernoulli KL-divergence $\\mathrm{kl}(x,y) = x\\log(x/y) + (1-x)\\log((1-x)/(1-y)).$\n",
        "\n",
        "Useful KL-divergence functions are already given in `BanditTools.py`."
      ]
    },
    {
      "cell_type": "markdown",
      "metadata": {
        "id": "76Y--roHWhtw",
        "colab_type": "text"
      },
      "source": [
        "* Implement the kl-UCB algorithm. Some help for the computation of the indices can be found in BanditTools.py. You may want to code a generic version of kl-UCB, based on a divergence function to specify."
      ]
    },
    {
      "cell_type": "code",
      "metadata": {
        "id": "8fNB8HHUWhtx",
        "colab_type": "code",
        "colab": {}
      },
      "source": [
        "class klUCB:\n",
        "    \"\"\"klUCB (Bernoulli divergence by default)\"\"\"\n",
        "    def __init__(self,nbArms,divergence=klucbBern,c=0):\n",
        "        self.nbArms = nbArms\n",
        "        self.divergence = divergence\n",
        "        self.c = c\n",
        "        self.clear()\n",
        "\n",
        "    def clear(self):\n",
        "        self.nbDraws = np.zeros(self.nbArms)\n",
        "        self.cumRewards = np.zeros(self.nbArms)\n",
        "        self.t = 0\n",
        "    \n",
        "    def chooseArmToPlay(self):\n",
        "        if (min(self.nbDraws)==0):\n",
        "            return randmax(-self.nbDraws)\n",
        "        else:\n",
        "            index = np.zeros(self.nbArms)\n",
        "            for a in range(self.nbArms):\n",
        "                index[a] = self.divergence(self.cumRewards[a]/self.nbDraws[a],(log(self.t)+self.c*log(log(self.t)))/self.nbDraws[a])\n",
        "            return randmax(index)\n",
        "\n",
        "    def receiveReward(self, arm, reward):\n",
        "        self.t = self.t+1\n",
        "        self.nbDraws[arm]=self.nbDraws[arm]+1\n",
        "        self.cumRewards[arm]=self.cumRewards[arm]+reward\n",
        "\n",
        "    def name(self):\n",
        "        return \"kl-UCB\""
      ],
      "execution_count": 0,
      "outputs": []
    },
    {
      "cell_type": "markdown",
      "metadata": {
        "id": "-bhYNT5cWht1",
        "colab_type": "text"
      },
      "source": [
        "* Compare the regret of UCB, kl-UCB and the lower bound on at least the following two instances.\n",
        "\n",
        "The first instance has means very close to 0.5, and $\\mathrm{kl}(x,y) \\simeq 2(x-y)^2$ is a good approximation in this regime.\n",
        "Hence we expect UCB and kl-UCB to perform similarly on such an instance. \n",
        "\n",
        "On the second instance where the means are very low (a scenario inspired by online advertisement), the choice of algorithm is expected to make a bigger difference. "
      ]
    },
    {
      "cell_type": "code",
      "metadata": {
        "id": "DYRevVPWWht3",
        "colab_type": "code",
        "colab": {}
      },
      "source": [
        "banditA = BernoulliBandit([0.45,0.5,0.6])  \n",
        "banditB = BernoulliBandit([0.1,0.05,0.02,0.01])"
      ],
      "execution_count": 0,
      "outputs": []
    },
    {
      "cell_type": "markdown",
      "metadata": {
        "id": "VMDg7yUrWht9",
        "colab_type": "text"
      },
      "source": [
        "#### Comparing the algorithm on Bandit A"
      ]
    },
    {
      "cell_type": "code",
      "metadata": {
        "id": "Q7Lz6m0KWht_",
        "colab_type": "code",
        "colab": {}
      },
      "source": [
        "learner1 = UCB(3)\n",
        "learner2 = klUCB(3)\n",
        "\n",
        "nExp = 200\n",
        "timeHorizon = 1000\n",
        "tsave = np.arange(1,timeHorizon,20)\n",
        "\n",
        "Regret1 = OneBanditOneLearnerMultipleRuns(banditA,learner1,timeHorizon,nExp,tsave)\n",
        "Regret2 = OneBanditOneLearnerMultipleRuns(banditA,learner2,timeHorizon,nExp,tsave)\n",
        "\n",
        "LBA = Complexity(banditA)*np.log(tsave)\n",
        "\n",
        "# plot everything (log scale for x axis) \n",
        "\n",
        "plt.plot(np.log(tsave),np.mean(Regret1,0),linewidth=2.0,color=\"b\",label=\"mean regret of \"+learner1.name())\n",
        "plt.plot(np.log(tsave),np.quantile(Regret1,0.99,0),np.log(tsave),np.quantile(Regret1,0.01,0),linestyle=\"dashed\",color=\"b\")\n",
        "\n",
        "plt.plot(np.log(tsave),np.mean(Regret2,0),linewidth=2.0,color=\"r\",label=\"mean regret of \"+learner2.name())\n",
        "plt.plot(np.log(tsave),np.quantile(Regret2,0.99,0),np.log(tsave),np.quantile(Regret2,0.01,0),linestyle=\"dashed\",color=\"r\")\n",
        "\n",
        "plt.plot(np.log(tsave),LBA,color=\"k\",linestyle = \"dashed\",label = \"Lower Bound\")\n",
        "\n",
        "plt.xlabel(\"$\\log(t)$\")\n",
        "plt.ylabel(\"$cumulative regret after $t$ rounds\")\n",
        "plt.legend()"
      ],
      "execution_count": 0,
      "outputs": []
    },
    {
      "cell_type": "markdown",
      "metadata": {
        "id": "1GVOsOctWhuF",
        "colab_type": "text"
      },
      "source": [
        "The regret obtained by the two algorithms is quite comparable. "
      ]
    },
    {
      "cell_type": "markdown",
      "metadata": {
        "id": "zasDYKZ3WhuG",
        "colab_type": "text"
      },
      "source": [
        "#### Comparing the algorithms on Bandit B"
      ]
    },
    {
      "cell_type": "code",
      "metadata": {
        "id": "VwvS8PjRWhuH",
        "colab_type": "code",
        "colab": {}
      },
      "source": [
        "learner1 = UCB(4)\n",
        "learner2 = klUCB(4)\n",
        "\n",
        "nExp = 200\n",
        "timeHorizon = 3000\n",
        "tsave = np.arange(1,timeHorizon,20)\n",
        "\n",
        "Regret1 = OneBanditOneLearnerMultipleRuns(banditB,learner1,timeHorizon,nExp,tsave)\n",
        "Regret2 = OneBanditOneLearnerMultipleRuns(banditB,learner2,timeHorizon,nExp,tsave)\n",
        "\n",
        "LBB = Complexity(banditA)*np.log(tsave)\n",
        "\n",
        "# plot everything (log scale for x axis) \n",
        "\n",
        "plt.plot(np.log(tsave),np.mean(Regret1,0),linewidth=2.0,color=\"b\",label=\"mean regret of \"+learner1.name())\n",
        "plt.plot(np.log(tsave),np.quantile(Regret1,0.99,0),np.log(tsave),np.quantile(Regret1,0.01,0),linestyle=\"dashed\",color=\"b\")\n",
        "\n",
        "plt.plot(np.log(tsave),np.mean(Regret2,0),linewidth=2.0,color=\"r\",label=\"mean regret of \"+learner2.name())\n",
        "plt.plot(np.log(tsave),np.quantile(Regret2,0.99,0),np.log(tsave),np.quantile(Regret2,0.01,0),linestyle=\"dashed\",color=\"r\")\n",
        "\n",
        "plt.plot(np.log(tsave),LBB,color=\"k\",linestyle = \"dashed\",label = \"Lower Bound\")\n",
        "\n",
        "plt.xlabel(\"$\\log(t)$\")\n",
        "plt.ylabel(\"$cumulative regret after $t$ rounds\")\n",
        "plt.legend()"
      ],
      "execution_count": 0,
      "outputs": []
    },
    {
      "cell_type": "markdown",
      "metadata": {
        "id": "0EJAQda3WhuN",
        "colab_type": "text"
      },
      "source": [
        "#### Beyond Bernoulli Bandits\n",
        "\n",
        "kl-UCB is also suited for rewards that belong to other one-dimensional exponential family, like Gaussian distributions with known variance, Poisson distributions or Exponential distributions (all the corresponding kl-divergences are given in `BanditTools.py`).\n",
        "\n",
        "* Try kl-UCB for a different family of distributions"
      ]
    },
    {
      "cell_type": "code",
      "metadata": {
        "id": "NZiQz3KIWhuP",
        "colab_type": "code",
        "colab": {}
      },
      "source": [
        "banditExpo = MAB([arm.Exponential(1),arm.Exponential(2),arm.Exponential(3)])\n",
        "learnerExpo = klUCB(3,klucbExp)\n",
        "\n",
        "timeHorizon = 1000\n",
        "nExp = 200\n",
        "tsave = np.arange(1,timeHorizon,10)\n",
        "\n",
        "Regret = OneBanditOneLearnerMultipleRuns(banditExpo,learnerExpo,timeHorizon,nExp,tsave)\n",
        "\n",
        "FinalRegret = Regret[:,len(tsave)-1]\n",
        "plt.xlabel(\"regret at time T=\" + str(timeHorizon), fontsize=14)\n",
        "plt.ylabel(\"counts\", fontsize=14)\n",
        "plt.hist(FinalRegret, 15)\n",
        "plt.title(\"Histogram of the final regret\", fontsize=14)\n",
        "\n",
        "plt.figure()\n",
        "plt.plot(tsave,np.mean(Regret,0),linewidth=2.0,color=\"b\")\n",
        "plt.plot(tsave,np.quantile(Regret,0.95,0),tsave,np.quantile(Regret,0.05,0),linestyle=\"dashed\",color=\"b\")\n",
        "plt.title(\"Regret of kl-UCB for Exponential rewards\")"
      ],
      "execution_count": 0,
      "outputs": []
    },
    {
      "cell_type": "markdown",
      "metadata": {
        "id": "9sSC8oJtWhuT",
        "colab_type": "text"
      },
      "source": [
        "# VI) A Bayesian strategy: Thompson Sampling "
      ]
    },
    {
      "cell_type": "markdown",
      "metadata": {
        "id": "sSa6cBV2WhuV",
        "colab_type": "text"
      },
      "source": [
        "We now explore one of the Bayesian strategies discussed in class: **Thompson Sampling**. This heuristic is very old, and its theoretical understanding is still quite partial beyond simple settings. Still, in the Bernoulli case, it is proved to be asymptotically optimal. Letting $\\pi_a(t)$ denote the posterior distribution on arm $a$ after $t$ rounds, the algorithm can be implemented as follows: \n",
        "\n",
        "$$\\forall a, \\theta_a(t) \\sim \\pi_a(t-1), \\ \\ \\ A_{t} = \\underset{a}{\\text{argmax }} \\theta_a(t)$$\n",
        "\n",
        "In the Bernoulli case, with a uniform (or more generally a Beta$(\\alpha,\\beta)$) prior distribution on each mean, the posterior distribution remains a Beta distribution. More precisely, one has\n",
        "\n",
        "$$\\pi_a(t) = \\mathrm{Beta}\\left(\\alpha + S_a(t), \\beta + N_a(t) - S_a(t)\\right),$$\n",
        "\n",
        "where $S_a(t)$ is the sum of rewards received from arm $a$ after $t$ rounds, and $N_a(t)$ is the number of selections of that arm, as before.\n",
        "\n",
        "* Implement Thompson Sampling for binary bandits with a Beta prior. \n",
        "\n"
      ]
    },
    {
      "cell_type": "code",
      "metadata": {
        "id": "ZI0LxWsuWhuY",
        "colab_type": "code",
        "colab": {}
      },
      "source": [
        "class ThompsonSampling:\n",
        "    \"\"\"Thompson Sampling with Beta(a,b) prior and Bernoulli likelihood\"\"\"\n",
        "    def __init__(self,nbArms,a=1,b=1):\n",
        "        self.nbArms = nbArms\n",
        "        self.a = a\n",
        "        self.b = a\n",
        "        self.clear()\n",
        "\n",
        "    def clear(self):\n",
        "        self.nbDraws = np.zeros(self.nbArms)\n",
        "        self.cumRewards = np.zeros(self.nbArms)\n",
        "    \n",
        "    def chooseArmToPlay(self):\n",
        "        posterior_samples = np.zeros(self.nbArms)\n",
        "        for a in range(self.nbArms):\n",
        "            posterior_samples[a]= np.random.beta(self.cumRewards[a]+self.a,self.nbDraws[a]-self.cumRewards[a]+self.b)\n",
        "        return randmax(posterior_samples)\n",
        "\n",
        "    def receiveReward(self, arm, reward):\n",
        "        # binarization trick if the rewards are bounded in [0,1]\n",
        "        binreward = float(np.random.random()<reward)\n",
        "        self.nbDraws[arm]=self.nbDraws[arm]+1\n",
        "        self.cumRewards[arm]=self.cumRewards[arm]+binreward\n",
        "\n",
        "    def name(self):\n",
        "        return \"Thompson Sampling\""
      ],
      "execution_count": 0,
      "outputs": []
    },
    {
      "cell_type": "markdown",
      "metadata": {
        "id": "fBBnL_QlWhud",
        "colab_type": "text"
      },
      "source": [
        "* Compare this algorithm to UCB and kl-UCB on a binary instance of your choice."
      ]
    },
    {
      "cell_type": "code",
      "metadata": {
        "id": "VJvqnYxHWhue",
        "colab_type": "code",
        "colab": {}
      },
      "source": [
        "means = [0.1,0.15,0.2,0.25]\n",
        "\n",
        "bandit = BernoulliBandit(means)\n",
        "K = len(means)\n",
        "\n",
        "nExp = 200\n",
        "timeHorizon = 2000\n",
        "tsave = np.arange(1,timeHorizon,20)\n",
        "\n",
        "algos = [UCB(K),klUCB(K),ThompsonSampling(K)]\n",
        "colors = [\"b\",\"r\",\"g\",\"c\",\"m\"]\n",
        "\n",
        "for i in range(len(algos)):\n",
        "    algo = algos[i]\n",
        "    Regret = OneBanditOneLearnerMultipleRuns(bandit,algo,timeHorizon,nExp,tsave)\n",
        "    plt.plot(tsave,np.mean(Regret,0),linewidth=2.0,color=colors[i],label=algo.name())\n",
        "\n",
        "plt.legend()\n"
      ],
      "execution_count": 0,
      "outputs": []
    },
    {
      "cell_type": "markdown",
      "metadata": {
        "id": "Yfr3Sjv3Whuj",
        "colab_type": "text"
      },
      "source": [
        "#### kl-UCB and Thompson Sampling for bounded rewards\n",
        "\n",
        "kl-UCB and Thompson Sampling can both be used for any bandit instance with rewards that are bounded in $[0,1]$. kl-UCB can be used without any modification (its analysis just extends to bounded distribution, as the sample concentration inequality can be used). However, for Thompson Sampling it is not the case: the algorithm needs to be modified to handle possibly non-binary rewards. The \"binarization trick\" that can be employed is described [here](http://proceedings.mlr.press/v23/agrawal12/agrawal12.pdf).\n",
        "\n",
        "* Check that your implementation of Thompson Sampling incorporates this binarization trick, and run the 3 previous algorithm on a bandit instance with bounded rewards that are not only binary. "
      ]
    },
    {
      "cell_type": "code",
      "metadata": {
        "id": "47wFEJuJWhun",
        "colab_type": "code",
        "colab": {}
      },
      "source": [
        "bandit = MAB([arm.TruncatedExponential(2.5,1),arm.TruncatedExponential(3,1),arm.TruncatedExponential(3.5,1)])\n",
        "print(\"arm means are\")\n",
        "print(bandit.means)\n",
        "K = len(bandit.means)\n",
        "\n",
        "nExp = 200\n",
        "timeHorizon = 2000\n",
        "tsave = np.arange(1,timeHorizon,20)\n",
        "\n",
        "algos = [UCB(K),klUCB(K),ThompsonSampling(K)]\n",
        "colors = [\"b\",\"r\",\"g\",\"c\",\"m\"]\n",
        "\n",
        "for i in range(len(algos)):\n",
        "    algo = algos[i]\n",
        "    Regret = OneBanditOneLearnerMultipleRuns(bandit,algo,timeHorizon,nExp,tsave)\n",
        "    plt.plot(tsave,np.mean(Regret,0),linewidth=2.0,color=colors[i],label=algo.name())\n",
        "\n",
        "plt.legend()"
      ],
      "execution_count": 0,
      "outputs": []
    },
    {
      "cell_type": "markdown",
      "metadata": {
        "id": "lM4zvCNGWhus",
        "colab_type": "text"
      },
      "source": [
        "# VII) Trying other bandit strategies \n",
        "\n",
        "You are welcome to try other approaches from the (rich) multi-armed bandit literature. \n",
        "\n",
        "* If you are intersted in further understanding some randomized algorithm, you can try BESA, a puzzling strategy based on sub sampling: https://hal.archives-ouvertes.fr/file/index/docid/1025651/filename/BESA2.pdf\n",
        "\n",
        "* We did not (yet) talk about adversarial bandit approaches, for you may want to add the EXP3 strategy to this comparison at some point: http://rob.schapire.net/papers/AuerCeFrSc01.pdf\n",
        "\n",
        "* Or maybe a recent paper who tries to propose an algorithm efficient for stochastic and adversarial bandits : \n",
        "https://arxiv.org/abs/1807.07623"
      ]
    },
    {
      "cell_type": "code",
      "metadata": {
        "id": "VjEgol6dWhuu",
        "colab_type": "code",
        "colab": {}
      },
      "source": [
        ""
      ],
      "execution_count": 0,
      "outputs": []
    }
  ]
}